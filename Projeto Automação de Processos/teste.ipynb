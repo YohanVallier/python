{
 "cells": [
  {
   "cell_type": "code",
   "execution_count": 15,
   "metadata": {},
   "outputs": [],
   "source": [
    "import smtplib\n",
    "from email.mime.text import MIMEText"
   ]
  },
  {
   "cell_type": "code",
   "execution_count": null,
   "metadata": {},
   "outputs": [],
   "source": [
    "smtp_server = 'smtp.gmail.com'  # Substitua pelo servidor SMTP do seu provedor\n",
    "smtp_port = 587  # Porta SMTP (geralmente 587 para TLS ou 465 para SSL)\n",
    "smtp_username = 'braionyohan@gmail.com'\n",
    "smtp_password = 'ccrb taha asyp jiiz'\n",
    "\n",
    "remetente = 'braionyohan@gmail.com'\n",
    "destinatario = 'destinatario@dominio.com'\n",
    "assunto = 'Assunto do E-mail'\n",
    "corpo = 'Este é o corpo do e-mail.'\n",
    "\n",
    "mensagem = MIMEText(corpo, 'plain')\n",
    "mensagem['From'] = remetente\n",
    "mensagem['To'] = destinatario\n",
    "mensagem['Subject'] = assunto"
   ]
  },
  {
   "cell_type": "code",
   "execution_count": 17,
   "metadata": {},
   "outputs": [
    {
     "name": "stdout",
     "output_type": "stream",
     "text": [
      "E-mail enviado com sucesso!\n"
     ]
    }
   ],
   "source": [
    "try:\n",
    "    servidor_smtp = smtplib.SMTP(smtp_server, smtp_port)\n",
    "    servidor_smtp.starttls()  # Inicia a comunicação criptografada\n",
    "    servidor_smtp.login(smtp_username, smtp_password)\n",
    "    servidor_smtp.sendmail(remetente, destinatario, mensagem.as_string())\n",
    "    print('E-mail enviado com sucesso!')\n",
    "except Exception as e:\n",
    "    print(f'Erro ao enviar e-mail: {e}')\n",
    "finally:\n",
    "    servidor_smtp.quit()\n"
   ]
  }
 ],
 "metadata": {
  "kernelspec": {
   "display_name": "base",
   "language": "python",
   "name": "python3"
  },
  "language_info": {
   "codemirror_mode": {
    "name": "ipython",
    "version": 3
   },
   "file_extension": ".py",
   "mimetype": "text/x-python",
   "name": "python",
   "nbconvert_exporter": "python",
   "pygments_lexer": "ipython3",
   "version": "3.12.7"
  }
 },
 "nbformat": 4,
 "nbformat_minor": 2
}
