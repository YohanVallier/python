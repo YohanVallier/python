{
 "cells": [
  {
   "cell_type": "code",
   "execution_count": null,
   "metadata": {},
   "outputs": [],
   "source": [
    "import pathlib\n",
    "import pandas as pd\n",
    "import pyautogui as pyg\n",
    "import time\n",
    "import smtplib\n",
    "import os\n",
    "from email.mime.multipart import MIMEMultipart\n",
    "from email.mime.text import MIMEText\n",
    "from email.mime.base import MIMEBase\n",
    "from email import encoders"
   ]
  },
  {
   "cell_type": "code",
   "execution_count": null,
   "metadata": {},
   "outputs": [],
   "source": [
    "email = pd.read_excel(r\"C:\\Users\\braio\\OneDrive\\Área de Trabalho\\Github\\python\\Projeto Automação de Processos\\Projeto AutomacaoIndicadores\\Bases de Dados\\Emails.xlsx\")\n",
    "lojas = pd.read_csv(r\"C:\\Users\\braio\\OneDrive\\Área de Trabalho\\Github\\python\\Projeto Automação de Processos\\Projeto AutomacaoIndicadores\\Bases de Dados\\Lojas.csv\", encoding=\"latin1\", sep=\";\")\n",
    "vendas = pd.read_excel(r\"C:\\Users\\braio\\OneDrive\\Área de Trabalho\\Github\\python\\Projeto Automação de Processos\\Projeto AutomacaoIndicadores\\Bases de Dados\\Vendas.xlsx\")"
   ]
  },
  {
   "cell_type": "code",
   "execution_count": null,
   "metadata": {},
   "outputs": [],
   "source": [
    "vendas = vendas.merge(lojas, on='ID Loja')"
   ]
  },
  {
   "cell_type": "code",
   "execution_count": null,
   "metadata": {},
   "outputs": [],
   "source": [
    "dicionario_loja = {}\n",
    "for loja in lojas['Loja']:\n",
    "    dicionario_loja[loja] = vendas.loc[vendas['Loja'] == loja, :]"
   ]
  },
  {
   "cell_type": "code",
   "execution_count": null,
   "metadata": {},
   "outputs": [],
   "source": [
    "dia_indicador = vendas['Data'].max()"
   ]
  },
  {
   "cell_type": "code",
   "execution_count": null,
   "metadata": {},
   "outputs": [],
   "source": [
    "#identificar se a pasta existe\n",
    "caminho_backup = pathlib.Path(r\"C:\\Users\\braio\\OneDrive\\Área de Trabalho\\Github\\python\\Projeto Automação de Processos\\Projeto AutomacaoIndicadores\\Backup Arquivos Lojas\")\n",
    "\n",
    "arquivo_pasta_backup = caminho_backup.iterdir()\n",
    "lista_nome_backup = [arquivo.name for arquivo in arquivo_pasta_backup]\n",
    "\n",
    "for loja in dicionario_loja:\n",
    "    if loja not in lista_nome_backup:\n",
    "        nova_pasta = caminho_backup / loja\n",
    "        nova_pasta.mkdir()\n",
    "\n",
    "#salvar dentro da pasta\n",
    "    nome_arquivo = f'{dia_indicador.month}_{dia_indicador.day}_{loja}.xlsx'\n",
    "    local_arquivo = caminho_backup / loja / nome_arquivo\n",
    "\n",
    "    dicionario_loja[loja].to_excel(local_arquivo)\n"
   ]
  },
  {
   "cell_type": "code",
   "execution_count": null,
   "metadata": {},
   "outputs": [],
   "source": [
    "loja = 'Norte Shopping'\n",
    "venda_loja = dicionario_loja[loja]\n",
    "venda_loja_dia = venda_loja.loc[venda_loja['Data'] == dia_indicador, :]\n",
    "\n",
    "#faturamento\n",
    "faturamento_ano = venda_loja['Valor Final'].sum()\n",
    "faturamento_dia = venda_loja_dia['Valor Final'].sum()\n",
    "\n",
    "#diversidade de produtos\n",
    "qtde_produto_ano = len(venda_loja['Produto'].unique())\n",
    "qtde_produto_dia = len(venda_loja_dia['Produto'].unique())\n",
    "\n",
    "#ticket médio\n",
    "venda_loja = venda_loja.drop('Data', axis=1)\n",
    "valor_venda = venda_loja.groupby('Código Venda').sum()\n",
    "ticket_medio_ano = valor_venda['Valor Final'].mean()\n",
    "\n",
    "venda_loja_dia = venda_loja_dia.drop('Data', axis=1)\n",
    "valor_venda_dia = venda_loja_dia.groupby('Código Venda').sum()\n",
    "ticket_medio_dia = valor_venda_dia['Valor Final'].mean()"
   ]
  },
  {
   "cell_type": "code",
   "execution_count": null,
   "metadata": {},
   "outputs": [],
   "source": [
    "#definição de metas\n",
    "\n",
    "meta_faturamento_dia = 1000\n",
    "meta_faturamento_ano = 1650000\n",
    "meta_qtdeprodutos_dia = 4\n",
    "meta_qtdeprodutos_ano = 120\n",
    "meta_ticket_dia = 500\n",
    "meta_ticket_ano = 500"
   ]
  },
  {
   "cell_type": "markdown",
   "metadata": {},
   "source": [
    "Acessar o Gmail"
   ]
  },
  {
   "cell_type": "code",
   "execution_count": null,
   "metadata": {},
   "outputs": [
    {
     "name": "stdout",
     "output_type": "stream",
     "text": [
      "E-mail enviado com sucesso!\n",
      "E-mail enviado com sucesso!\n",
      "E-mail enviado com sucesso!\n"
     ]
    },
    {
     "ename": "KeyboardInterrupt",
     "evalue": "",
     "output_type": "error",
     "traceback": [
      "\u001b[1;31m---------------------------------------------------------------------------\u001b[0m",
      "\u001b[1;31mKeyboardInterrupt\u001b[0m                         Traceback (most recent call last)",
      "Cell \u001b[1;32mIn[47], line 32\u001b[0m\n\u001b[0;32m     30\u001b[0m \u001b[38;5;28;01mtry\u001b[39;00m:\n\u001b[0;32m     31\u001b[0m     servidor_smtp \u001b[38;5;241m=\u001b[39m smtplib\u001b[38;5;241m.\u001b[39mSMTP(smtp_server, smtp_port)\n\u001b[1;32m---> 32\u001b[0m     \u001b[43mservidor_smtp\u001b[49m\u001b[38;5;241;43m.\u001b[39;49m\u001b[43mstarttls\u001b[49m\u001b[43m(\u001b[49m\u001b[43m)\u001b[49m  \u001b[38;5;66;03m# Inicia a comunicação criptografada\u001b[39;00m\n\u001b[0;32m     33\u001b[0m     servidor_smtp\u001b[38;5;241m.\u001b[39mlogin(smtp_username, smtp_password)\n\u001b[0;32m     34\u001b[0m     servidor_smtp\u001b[38;5;241m.\u001b[39msendmail(remetente, destinatario, mensagem\u001b[38;5;241m.\u001b[39mas_string())\n",
      "File \u001b[1;32mc:\\Users\\braio\\anaconda3\\Lib\\smtplib.py:769\u001b[0m, in \u001b[0;36mSMTP.starttls\u001b[1;34m(self, context)\u001b[0m\n\u001b[0;32m    752\u001b[0m \u001b[38;5;28;01mdef\u001b[39;00m \u001b[38;5;21mstarttls\u001b[39m(\u001b[38;5;28mself\u001b[39m, \u001b[38;5;241m*\u001b[39m, context\u001b[38;5;241m=\u001b[39m\u001b[38;5;28;01mNone\u001b[39;00m):\n\u001b[0;32m    753\u001b[0m \u001b[38;5;250m    \u001b[39m\u001b[38;5;124;03m\"\"\"Puts the connection to the SMTP server into TLS mode.\u001b[39;00m\n\u001b[0;32m    754\u001b[0m \n\u001b[0;32m    755\u001b[0m \u001b[38;5;124;03m    If there has been no previous EHLO or HELO command this session, this\u001b[39;00m\n\u001b[1;32m   (...)\u001b[0m\n\u001b[0;32m    767\u001b[0m \u001b[38;5;124;03m                              the helo greeting.\u001b[39;00m\n\u001b[0;32m    768\u001b[0m \u001b[38;5;124;03m    \"\"\"\u001b[39;00m\n\u001b[1;32m--> 769\u001b[0m     \u001b[38;5;28;43mself\u001b[39;49m\u001b[38;5;241;43m.\u001b[39;49m\u001b[43mehlo_or_helo_if_needed\u001b[49m\u001b[43m(\u001b[49m\u001b[43m)\u001b[49m\n\u001b[0;32m    770\u001b[0m     \u001b[38;5;28;01mif\u001b[39;00m \u001b[38;5;129;01mnot\u001b[39;00m \u001b[38;5;28mself\u001b[39m\u001b[38;5;241m.\u001b[39mhas_extn(\u001b[38;5;124m\"\u001b[39m\u001b[38;5;124mstarttls\u001b[39m\u001b[38;5;124m\"\u001b[39m):\n\u001b[0;32m    771\u001b[0m         \u001b[38;5;28;01mraise\u001b[39;00m SMTPNotSupportedError(\n\u001b[0;32m    772\u001b[0m             \u001b[38;5;124m\"\u001b[39m\u001b[38;5;124mSTARTTLS extension not supported by server.\u001b[39m\u001b[38;5;124m\"\u001b[39m)\n",
      "File \u001b[1;32mc:\\Users\\braio\\anaconda3\\Lib\\smtplib.py:611\u001b[0m, in \u001b[0;36mSMTP.ehlo_or_helo_if_needed\u001b[1;34m(self)\u001b[0m\n\u001b[0;32m    600\u001b[0m \u001b[38;5;250m\u001b[39m\u001b[38;5;124;03m\"\"\"Call self.ehlo() and/or self.helo() if needed.\u001b[39;00m\n\u001b[0;32m    601\u001b[0m \n\u001b[0;32m    602\u001b[0m \u001b[38;5;124;03mIf there has been no previous EHLO or HELO command this session, this\u001b[39;00m\n\u001b[1;32m   (...)\u001b[0m\n\u001b[0;32m    608\u001b[0m \u001b[38;5;124;03m                          the helo greeting.\u001b[39;00m\n\u001b[0;32m    609\u001b[0m \u001b[38;5;124;03m\"\"\"\u001b[39;00m\n\u001b[0;32m    610\u001b[0m \u001b[38;5;28;01mif\u001b[39;00m \u001b[38;5;28mself\u001b[39m\u001b[38;5;241m.\u001b[39mhelo_resp \u001b[38;5;129;01mis\u001b[39;00m \u001b[38;5;28;01mNone\u001b[39;00m \u001b[38;5;129;01mand\u001b[39;00m \u001b[38;5;28mself\u001b[39m\u001b[38;5;241m.\u001b[39mehlo_resp \u001b[38;5;129;01mis\u001b[39;00m \u001b[38;5;28;01mNone\u001b[39;00m:\n\u001b[1;32m--> 611\u001b[0m     \u001b[38;5;28;01mif\u001b[39;00m \u001b[38;5;129;01mnot\u001b[39;00m (\u001b[38;5;241m200\u001b[39m \u001b[38;5;241m<\u001b[39m\u001b[38;5;241m=\u001b[39m \u001b[38;5;28;43mself\u001b[39;49m\u001b[38;5;241;43m.\u001b[39;49m\u001b[43mehlo\u001b[49m\u001b[43m(\u001b[49m\u001b[43m)\u001b[49m[\u001b[38;5;241m0\u001b[39m] \u001b[38;5;241m<\u001b[39m\u001b[38;5;241m=\u001b[39m \u001b[38;5;241m299\u001b[39m):\n\u001b[0;32m    612\u001b[0m         (code, resp) \u001b[38;5;241m=\u001b[39m \u001b[38;5;28mself\u001b[39m\u001b[38;5;241m.\u001b[39mhelo()\n\u001b[0;32m    613\u001b[0m         \u001b[38;5;28;01mif\u001b[39;00m \u001b[38;5;129;01mnot\u001b[39;00m (\u001b[38;5;241m200\u001b[39m \u001b[38;5;241m<\u001b[39m\u001b[38;5;241m=\u001b[39m code \u001b[38;5;241m<\u001b[39m\u001b[38;5;241m=\u001b[39m \u001b[38;5;241m299\u001b[39m):\n",
      "File \u001b[1;32mc:\\Users\\braio\\anaconda3\\Lib\\smtplib.py:452\u001b[0m, in \u001b[0;36mSMTP.ehlo\u001b[1;34m(self, name)\u001b[0m\n\u001b[0;32m    450\u001b[0m \u001b[38;5;28mself\u001b[39m\u001b[38;5;241m.\u001b[39mesmtp_features \u001b[38;5;241m=\u001b[39m {}\n\u001b[0;32m    451\u001b[0m \u001b[38;5;28mself\u001b[39m\u001b[38;5;241m.\u001b[39mputcmd(\u001b[38;5;28mself\u001b[39m\u001b[38;5;241m.\u001b[39mehlo_msg, name \u001b[38;5;129;01mor\u001b[39;00m \u001b[38;5;28mself\u001b[39m\u001b[38;5;241m.\u001b[39mlocal_hostname)\n\u001b[1;32m--> 452\u001b[0m (code, msg) \u001b[38;5;241m=\u001b[39m \u001b[38;5;28;43mself\u001b[39;49m\u001b[38;5;241;43m.\u001b[39;49m\u001b[43mgetreply\u001b[49m\u001b[43m(\u001b[49m\u001b[43m)\u001b[49m\n\u001b[0;32m    453\u001b[0m \u001b[38;5;66;03m# According to RFC1869 some (badly written)\u001b[39;00m\n\u001b[0;32m    454\u001b[0m \u001b[38;5;66;03m# MTA's will disconnect on an ehlo. Toss an exception if\u001b[39;00m\n\u001b[0;32m    455\u001b[0m \u001b[38;5;66;03m# that happens -ddm\u001b[39;00m\n\u001b[0;32m    456\u001b[0m \u001b[38;5;28;01mif\u001b[39;00m code \u001b[38;5;241m==\u001b[39m \u001b[38;5;241m-\u001b[39m\u001b[38;5;241m1\u001b[39m \u001b[38;5;129;01mand\u001b[39;00m \u001b[38;5;28mlen\u001b[39m(msg) \u001b[38;5;241m==\u001b[39m \u001b[38;5;241m0\u001b[39m:\n",
      "File \u001b[1;32mc:\\Users\\braio\\anaconda3\\Lib\\smtplib.py:398\u001b[0m, in \u001b[0;36mSMTP.getreply\u001b[1;34m(self)\u001b[0m\n\u001b[0;32m    396\u001b[0m \u001b[38;5;28;01mwhile\u001b[39;00m \u001b[38;5;241m1\u001b[39m:\n\u001b[0;32m    397\u001b[0m     \u001b[38;5;28;01mtry\u001b[39;00m:\n\u001b[1;32m--> 398\u001b[0m         line \u001b[38;5;241m=\u001b[39m \u001b[38;5;28;43mself\u001b[39;49m\u001b[38;5;241;43m.\u001b[39;49m\u001b[43mfile\u001b[49m\u001b[38;5;241;43m.\u001b[39;49m\u001b[43mreadline\u001b[49m\u001b[43m(\u001b[49m\u001b[43m_MAXLINE\u001b[49m\u001b[43m \u001b[49m\u001b[38;5;241;43m+\u001b[39;49m\u001b[43m \u001b[49m\u001b[38;5;241;43m1\u001b[39;49m\u001b[43m)\u001b[49m\n\u001b[0;32m    399\u001b[0m     \u001b[38;5;28;01mexcept\u001b[39;00m \u001b[38;5;167;01mOSError\u001b[39;00m \u001b[38;5;28;01mas\u001b[39;00m e:\n\u001b[0;32m    400\u001b[0m         \u001b[38;5;28mself\u001b[39m\u001b[38;5;241m.\u001b[39mclose()\n",
      "File \u001b[1;32mc:\\Users\\braio\\anaconda3\\Lib\\socket.py:720\u001b[0m, in \u001b[0;36mSocketIO.readinto\u001b[1;34m(self, b)\u001b[0m\n\u001b[0;32m    718\u001b[0m \u001b[38;5;28;01mwhile\u001b[39;00m \u001b[38;5;28;01mTrue\u001b[39;00m:\n\u001b[0;32m    719\u001b[0m     \u001b[38;5;28;01mtry\u001b[39;00m:\n\u001b[1;32m--> 720\u001b[0m         \u001b[38;5;28;01mreturn\u001b[39;00m \u001b[38;5;28;43mself\u001b[39;49m\u001b[38;5;241;43m.\u001b[39;49m\u001b[43m_sock\u001b[49m\u001b[38;5;241;43m.\u001b[39;49m\u001b[43mrecv_into\u001b[49m\u001b[43m(\u001b[49m\u001b[43mb\u001b[49m\u001b[43m)\u001b[49m\n\u001b[0;32m    721\u001b[0m     \u001b[38;5;28;01mexcept\u001b[39;00m timeout:\n\u001b[0;32m    722\u001b[0m         \u001b[38;5;28mself\u001b[39m\u001b[38;5;241m.\u001b[39m_timeout_occurred \u001b[38;5;241m=\u001b[39m \u001b[38;5;28;01mTrue\u001b[39;00m\n",
      "\u001b[1;31mKeyboardInterrupt\u001b[0m: "
     ]
    }
   ],
   "source": [
    "smtp_server = 'smtp.gmail.com'\n",
    "smtp_port = 587\n",
    "smtp_username = remetente = ''\n",
    "smtp_password = ''\n",
    "\n",
    "for loja in lojas['Loja']:\n",
    "    destinatario = email.loc[email['Loja'] == loja, 'E-mail'].values[0]\n",
    "    assunto = f\"OnePage Dia {dia_indicador.day}/{dia_indicador.month} - Loja {loja}\"\n",
    "    gerente = email.loc[email['Loja'] == loja, 'Gerente'].values[0]\n",
    "    arquivo = caminho_backup / loja / f\"{dia_indicador.month}_{dia_indicador.day}_{loja}.xlsx\"         \n",
    "    corpo = 'Este é o corpo do e-mail.'\n",
    "\n",
    "\n",
    "    mensagem = MIMEMultipart()\n",
    "    mensagem['From'] = remetente\n",
    "    mensagem['To'] = destinatario\n",
    "    mensagem['Subject'] = assunto\n",
    "\n",
    "\n",
    "    if os.path.exists(arquivo):\n",
    "        with open(arquivo, \"rb\") as arquivo_aberto:\n",
    "            anexo = MIMEBase(\"application\", \"octet-stream\")\n",
    "            anexo.set_payload(arquivo_aberto.read())\n",
    "            encoders.encode_base64(anexo)\n",
    "            anexo.add_header(\"Content-Disposition\", f\"attachment; filename={os.path.basename(arquivo)}\")\n",
    "            mensagem.attach(anexo)\n",
    "    else:\n",
    "        print(\"Erro: O arquivo não foi encontrado!\")\n",
    "\n",
    "    try:\n",
    "        servidor_smtp = smtplib.SMTP(smtp_server, smtp_port)\n",
    "        servidor_smtp.starttls()  # Inicia a comunicação criptografada\n",
    "        servidor_smtp.login(smtp_username, smtp_password)\n",
    "        servidor_smtp.sendmail(remetente, destinatario, mensagem.as_string())\n",
    "        print('E-mail enviado com sucesso!')\n",
    "    except Exception as e:\n",
    "        print(f'Erro ao enviar e-mail: {e}')\n",
    "    finally:\n",
    "        servidor_smtp.quit()"
   ]
  }
 ],
 "metadata": {
  "kernelspec": {
   "display_name": "base",
   "language": "python",
   "name": "python3"
  },
  "language_info": {
   "codemirror_mode": {
    "name": "ipython",
    "version": 3
   },
   "file_extension": ".py",
   "mimetype": "text/x-python",
   "name": "python",
   "nbconvert_exporter": "python",
   "pygments_lexer": "ipython3",
   "version": "3.12.7"
  }
 },
 "nbformat": 4,
 "nbformat_minor": 2
}
