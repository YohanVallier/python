{
 "cells": [
  {
   "cell_type": "markdown",
   "metadata": {},
   "source": [
    "Biblioteca para manipulação em Excell, recuperação de caminhos e interação com o sistema operacional"
   ]
  },
  {
   "cell_type": "code",
   "execution_count": null,
   "metadata": {},
   "outputs": [],
   "source": [
    "import pandas as pd\n",
    "import glob\n",
    "import pandas as pd\n",
    "import datetime"
   ]
  },
  {
   "cell_type": "code",
   "execution_count": null,
   "metadata": {},
   "outputs": [],
   "source": [
    "d = str(datetime.date.today())\n",
    "print(d[0:4] + d[5:7] + d[8:])\n",
    "caminho = r\"R:\\Inteligencia de Mercado\\PREMIACAO\\FV Premio\\2023\"\n",
    "caminho_xlsx = glob.glob(caminho + \"/*.xlsx\")\n",
    "num = len(caminho) + 1\n",
    "c = 0\n",
    "print(caminho_xlsx)\n"
   ]
  },
  {
   "cell_type": "markdown",
   "metadata": {},
   "source": [
    "Aditivo RX"
   ]
  },
  {
   "cell_type": "code",
   "execution_count": null,
   "metadata": {},
   "outputs": [],
   "source": [
    "caminho_rx = \"R:\\Inteligencia de Mercado\\PREMIACAO\\REGULAMENTOS e CAMPANHAS\\Levantamento de aceites\\Base de Aceites 2023\\RX\"\n",
    "caminho_rx_xlsx = glob.glob(caminho_rx + \"/*.xlsx\")\n",
    "num_rx = len(caminho_rx)\n",
    "\n",
    "list_rx = []\n",
    "for c in caminho_rx_xlsx:\n",
    "    df_rx_ler = pd.read_excel(caminho_rx + c[num_rx:], header = 1)\n",
    "    df_rx_ler[\"TIPO_REGULAMENTO\"] = c[num_rx : -5] \n",
    "    list_rx.append(df_rx_ler)\n",
    "\n",
    "\n",
    "consolid_rx = pd.concat(list_rx, axis = 0, ignore_index = True)\n",
    "consolid_rx \n",
    "consolid_rx.to_excel(\"R:\\Inteligencia de Mercado\\PREMIACAO\\REGULAMENTOS e CAMPANHAS\\Levantamento de aceites\\Levantamento de aceites Rx.xlsx\")"
   ]
  },
  {
   "cell_type": "markdown",
   "metadata": {},
   "source": [
    "Comercial"
   ]
  },
  {
   "cell_type": "code",
   "execution_count": null,
   "metadata": {},
   "outputs": [],
   "source": [
    "caminho_comercial = \"R:\\Inteligencia de Mercado\\PREMIACAO\\REGULAMENTOS e CAMPANHAS\\Levantamento de aceites\\Base de Aceites 2023\\Comercial\"\n",
    "caminho_comercial_xlsx = glob.glob(caminho_comercial + \"/*.xlsx\")\n",
    "num_comercial = len(caminho_comercial)\n",
    "\n",
    "list_comercial = []\n",
    "for c in caminho_comercial_xlsx:\n",
    "    df_comercial_ler = pd.read_excel(caminho_comercial + c[num_comercial:], header = 1)\n",
    "    df_comercial_ler[\"TIPO_REGULAMENTO\"] = c[num_comercial : -5]\n",
    "    list_comercial.append(df_comercial_ler)\n",
    "\n",
    "consolid_comercial = pd.concat(list_comercial, axis = 0, ignore_index = True)\n",
    "consolid_comercial.to_excel(\"R:\\Inteligencia de Mercado\\PREMIACAO\\REGULAMENTOS e CAMPANHAS\\Levantamento de aceites\\Levantamento de aceites Comercial.xlsx\")"
   ]
  },
  {
   "cell_type": "markdown",
   "metadata": {},
   "source": [
    "Consumo KAM"
   ]
  },
  {
   "cell_type": "code",
   "execution_count": null,
   "metadata": {},
   "outputs": [],
   "source": [
    "caminho_KAM = \"R:\\Inteligencia de Mercado\\PREMIACAO\\REGULAMENTOS e CAMPANHAS\\Levantamento de aceites\\Base de Aceites 2023\\Consumo KAM\"\n",
    "caminho_KAM_xlsx = glob.glob(caminho_KAM + \"/*.xlsx\")\n",
    "num_KAM = len(caminho_KAM)\n",
    "\n",
    "list_KAM = []\n",
    "for c in caminho_KAM_xlsx:\n",
    "    df_KAM_ler = pd.read_excel(caminho_KAM + c[num_KAM:], header = 1)\n",
    "    df_KAM_ler[\"TIPO_REGULAMENTO\"] = c[num_KAM : -5]\n",
    "    list_KAM.append(df_KAM_ler)\n",
    "\n",
    "consolid_KAM = pd.concat(list_KAM, axis = 0, ignore_index = True)\n",
    "consolid_KAM.to_excel(\"R:\\Inteligencia de Mercado\\PREMIACAO\\REGULAMENTOS e CAMPANHAS\\Levantamento de aceites\\Levantamento de aceites Consumo_KAM.xlsx\")"
   ]
  },
  {
   "cell_type": "markdown",
   "metadata": {},
   "source": [
    "Consumo SUP e Promo"
   ]
  },
  {
   "cell_type": "code",
   "execution_count": null,
   "metadata": {},
   "outputs": [],
   "source": [
    "caminho_SUP_Promo = \"R:\\Inteligencia de Mercado\\PREMIACAO\\REGULAMENTOS e CAMPANHAS\\Levantamento de aceites\\Base de Aceites 2023\\Consumo Sup.Promo.DIV\"\n",
    "caminho_SUP_Promo_xlsx = glob.glob(caminho_SUP_Promo + \"/*.xlsx\")\n",
    "num_SUP_Promo = len(caminho_SUP_Promo)\n",
    "\n",
    "list_SUP_Promo = []\n",
    "for c in caminho_SUP_Promo_xlsx:\n",
    "    df_SUP_Promo = pd.read_excel(caminho_SUP_Promo + c[num_SUP_Promo:], header = 1)\n",
    "    df_SUP_Promo[\"TIPO_REGULAMENTO\"] = c[num_SUP_Promo : -5]\n",
    "    list_SUP_Promo.append(df_SUP_Promo)\n",
    "\n",
    "consolid_SUP_Promo = pd.concat(list_SUP_Promo, axis = 0, ignore_index = True)\n",
    "consolid_SUP_Promo.to_excel(\"R:\\Inteligencia de Mercado\\PREMIACAO\\REGULAMENTOS e CAMPANHAS\\Levantamento de aceites\\Levantamento de aceites Consumo_PROMO.xlsx\")"
   ]
  },
  {
   "cell_type": "markdown",
   "metadata": {},
   "source": [
    "Hospital"
   ]
  },
  {
   "cell_type": "code",
   "execution_count": null,
   "metadata": {},
   "outputs": [],
   "source": [
    "caminho_hospital = \"R:\\Inteligencia de Mercado\\PREMIACAO\\REGULAMENTOS e CAMPANHAS\\Levantamento de aceites\\Base de Aceites 2023\\Hospitalar\"\n",
    "caminho_hospital_xlsx = glob.glob(caminho_hospital + \"/*.xlsx\")\n",
    "num_hospital = len(caminho_hospital)\n",
    "\n",
    "list_hospital = []\n",
    "for c in caminho_hospital_xlsx:\n",
    "    df_hospital_ler = pd.read_excel(caminho_hospital + c[num_hospital:], header = 1)\n",
    "    df_hospital_ler[\"TIPO_REGULAMENTO\"] = c[num_hospital : -5]\n",
    "    list_hospital.append(df_hospital_ler)\n",
    "    \n",
    "consolid_hospital = pd.concat(list_hospital, axis = 0, ignore_index = True)\n",
    "consolid_hospital.to_excel(\"R:\\Inteligencia de Mercado\\PREMIACAO\\REGULAMENTOS e CAMPANHAS\\Levantamento de aceites\\Levantamento de aceites Hospitalar.xlsx\")"
   ]
  },
  {
   "cell_type": "markdown",
   "metadata": {},
   "source": [
    "OL"
   ]
  },
  {
   "cell_type": "code",
   "execution_count": null,
   "metadata": {},
   "outputs": [],
   "source": [
    "caminho_ol = \"R:\\Inteligencia de Mercado\\PREMIACAO\\REGULAMENTOS e CAMPANHAS\\Levantamento de aceites\\Base de Aceites 2023\\OL\"\n",
    "caminho_ol_xlsx = glob.glob(caminho_ol + \"/*.xlsx\")\n",
    "num_ol = len(caminho_ol)\n",
    "\n",
    "list_ol = []\n",
    "for c in caminho_ol_xlsx:\n",
    "    df_ol_ler = pd.read_excel(caminho_ol + c[num_ol:], header = 1)\n",
    "    df_ol_ler[\"TIPO_REGULAMENTO\"] = c[num_ol : -5]\n",
    "    list_ol.append(df_ol_ler)\n",
    "    \n",
    "consolid_ol = pd.concat(list_ol, axis = 0, ignore_index = True)\n",
    "consolid_ol.to_excel(\"R:\\Inteligencia de Mercado\\PREMIACAO\\REGULAMENTOS e CAMPANHAS\\Levantamento de aceites\\Levantamento de aceites OL.xlsx\")"
   ]
  }
 ],
 "metadata": {
  "kernelspec": {
   "display_name": "Python 3",
   "language": "python",
   "name": "python3"
  },
  "language_info": {
   "codemirror_mode": {
    "name": "ipython",
    "version": 3
   },
   "file_extension": ".py",
   "mimetype": "text/x-python",
   "name": "python",
   "nbconvert_exporter": "python",
   "pygments_lexer": "ipython3",
   "version": "3.11.5"
  },
  "orig_nbformat": 4
 },
 "nbformat": 4,
 "nbformat_minor": 2
}
