{
 "cells": [
  {
   "cell_type": "code",
   "execution_count": 4,
   "metadata": {},
   "outputs": [],
   "source": [
    "import numpy as np\n",
    "import time"
   ]
  },
  {
   "cell_type": "code",
   "execution_count": 10,
   "metadata": {},
   "outputs": [
    {
     "name": "stdout",
     "output_type": "stream",
     "text": [
      "Tempo da operação com a lista:  0.0010006427764892578\n",
      "Tempo da operação com o array:  0.0009984970092773438\n"
     ]
    }
   ],
   "source": [
    "lista = list(range(1000))\n",
    "\n",
    "array = np.array(lista)\n",
    "\n",
    "start_time = time.time()\n",
    "\n",
    "lista_quadrado = [i**2 for i in lista]\n",
    "\n",
    "list_time = time.time() - start_time\n",
    "\n",
    "\n",
    "start_time = time.time()\n",
    "\n",
    "array_quadrado = array**2\n",
    "\n",
    "array_time = time.time() - start_time\n",
    "\n",
    "print(\"Tempo da operação com a lista: \", list_time)\n",
    "print(\"Tempo da operação com o array: \", array_time)"
   ]
  }
 ],
 "metadata": {
  "kernelspec": {
   "display_name": "Python 3",
   "language": "python",
   "name": "python3"
  },
  "language_info": {
   "codemirror_mode": {
    "name": "ipython",
    "version": 3
   },
   "file_extension": ".py",
   "mimetype": "text/x-python",
   "name": "python",
   "nbconvert_exporter": "python",
   "pygments_lexer": "ipython3",
   "version": "3.12.3"
  }
 },
 "nbformat": 4,
 "nbformat_minor": 2
}
