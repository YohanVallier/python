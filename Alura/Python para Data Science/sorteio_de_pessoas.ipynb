{
 "cells": [
  {
   "cell_type": "code",
   "execution_count": 16,
   "metadata": {},
   "outputs": [],
   "source": [
    "from random import choice"
   ]
  },
  {
   "cell_type": "code",
   "execution_count": 17,
   "metadata": {},
   "outputs": [
    {
     "name": "stdout",
     "output_type": "stream",
     "text": [
      "*****************\n",
      "SORTEIO INCRÍVEL\n",
      "*****************\n",
      "Parabéns a pessoa escolhida do número de participantes foi 20\n"
     ]
    }
   ],
   "source": [
    "print('*' * 17)\n",
    "print('SORTEIO INCRÍVEL')\n",
    "print('*' * 17)\n",
    "\n",
    "pessoas =  int(input('Informe um a quantidade de pessoas: '))\n",
    "cie = choice(range(0, pessoas))\n",
    "\n",
    "final = print(f'Parabéns a pessoa escolhida do número de participantes foi {cie}')"
   ]
  }
 ],
 "metadata": {
  "kernelspec": {
   "display_name": "Python 3",
   "language": "python",
   "name": "python3"
  },
  "language_info": {
   "codemirror_mode": {
    "name": "ipython",
    "version": 3
   },
   "file_extension": ".py",
   "mimetype": "text/x-python",
   "name": "python",
   "nbconvert_exporter": "python",
   "pygments_lexer": "ipython3",
   "version": "3.10.12"
  }
 },
 "nbformat": 4,
 "nbformat_minor": 2
}
