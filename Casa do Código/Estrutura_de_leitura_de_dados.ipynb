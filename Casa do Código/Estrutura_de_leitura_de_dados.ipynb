{
 "cells": [
  {
   "cell_type": "code",
   "execution_count": 4,
   "metadata": {},
   "outputs": [],
   "source": [
    "import os"
   ]
  },
  {
   "cell_type": "markdown",
   "metadata": {},
   "source": [
    "Função para pegar somente informação do nome do arquivo"
   ]
  },
  {
   "cell_type": "code",
   "execution_count": null,
   "metadata": {},
   "outputs": [],
   "source": [
    "def extract_name(name):\n",
    "    return name.split(\".\")[0]"
   ]
  },
  {
   "cell_type": "markdown",
   "metadata": {},
   "source": [
    "Função para criação de uma lista com os nomes dentro do arquivo"
   ]
  },
  {
   "cell_type": "code",
   "execution_count": 2,
   "metadata": {},
   "outputs": [],
   "source": [
    "def read_lines(filename):\n",
    "    _file = open(os.path.join(\"/home/yohanvallier/Documentos/Meus Projetos/python/Casa do Código/dados/data/meta-data\", filename), \"rt\")\n",
    "    data = _file.read().split(\"\\n\")\n",
    "    _file.close()\n",
    "    return data"
   ]
  },
  {
   "cell_type": "markdown",
   "metadata": {},
   "source": [
    "Função que cria uma tupla contendo o nome, tipo e descrição"
   ]
  },
  {
   "cell_type": "code",
   "execution_count": null,
   "metadata": {},
   "outputs": [],
   "source": [
    "def read_metadata(filename):\n",
    "    metadata = []\n",
    "    for column in read_lines(filename):\n",
    "        if column:\n",
    "            values = column.split('\\t')\n",
    "            nome = values[0]\n",
    "            tipo = values[1]\n",
    "            desc = values[2]\n",
    "            metadata.append((nome, tipo, desc))\n",
    "    return metadata\n"
   ]
  },
  {
   "cell_type": "code",
   "execution_count": null,
   "metadata": {},
   "outputs": [],
   "source": [
    "def main():\n",
    "    meta = {}\n",
    "    # dicionário identificador -> nome entidade\n",
    "    keys = {}\n",
    "    for meta_data_file in os.listdir(\"/home/yohanvallier/Documentos/Meus Projetos/python/Casa do Código/dados/data/meta-data\"):\n",
    "        table_name = extract_name(meta_data_file)\n",
    "        attributes = read_metadata(meta_data_file)\n",
    "        identifier = attributes[0][0]\n",
    "        meta[table_name] = attributes\n",
    "        keys[identifier] = table_name\n",
    "        for key, val in meta.items():\n",
    "            for col in val:\n",
    "                if col[0] in keys:\n",
    "                    if not col[0] == meta[key][0][0]:\n",
    "                        print(\"Entiade {} -> {}\".format(key, col[0]))\n",
    "\n",
    "    if __name__ == \"__main__\":\n",
    "        main()"
   ]
  }
 ],
 "metadata": {
  "kernelspec": {
   "display_name": "Python 3",
   "language": "python",
   "name": "python3"
  },
  "language_info": {
   "codemirror_mode": {
    "name": "ipython",
    "version": 3
   },
   "file_extension": ".py",
   "mimetype": "text/x-python",
   "name": "python",
   "nbconvert_exporter": "python",
   "pygments_lexer": "ipython3",
   "version": "3.11.8"
  }
 },
 "nbformat": 4,
 "nbformat_minor": 2
}
