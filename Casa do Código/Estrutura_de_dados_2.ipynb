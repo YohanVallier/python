{
 "cells": [
  {
   "cell_type": "code",
   "execution_count": null,
   "metadata": {},
   "outputs": [],
   "source": [
    "import os"
   ]
  },
  {
   "cell_type": "code",
   "execution_count": null,
   "metadata": {},
   "outputs": [],
   "source": [
    "def extract_name(name):\n",
    "    return name.split(\".\")[0]"
   ]
  },
  {
   "cell_type": "markdown",
   "metadata": {},
   "source": []
  },
  {
   "cell_type": "code",
   "execution_count": null,
   "metadata": {},
   "outputs": [],
   "source": [
    "def read_lines(filename):\n",
    "    _file = open(os.path.join(\"data/meta-data\", filename), \"rt\")\n",
    "    data = _file.read().split(\"\\n\")\n",
    "    _file.close()\n",
    "    return data"
   ]
  },
  {
   "cell_type": "code",
   "execution_count": null,
   "metadata": {},
   "outputs": [],
   "source": [
    "def read_metadata(filename):\n",
    "    metadata = []\n",
    "    for column in read_lines(filename):\n",
    "        if column:\n",
    "            metadata.append(tuple(column.split('\\t')[:3]))\n",
    "    return metadata"
   ]
  },
  {
   "cell_type": "code",
   "execution_count": null,
   "metadata": {},
   "outputs": [],
   "source": [
    "def prompt():\n",
    "    print(\"\\nO que deseja ver?\")\n",
    "    print(\"(l) Listar entidades\")\n",
    "    print(\"(d) Exibir atributos de uma entidade\")\n",
    "    print(\"(r) Exibir referências de uma entidade\")\n",
    "    print(\"(s) Sair do programa\")\n",
    "    return input('')"
   ]
  },
  {
   "cell_type": "code",
   "execution_count": null,
   "metadata": {},
   "outputs": [],
   "source": [
    "def main():\n",
    "# dicionário nome entidade -> atributos\n",
    "    meta = {}\n",
    "# dicionário identificador -> nome entidade\n",
    "    keys = {}\n",
    "# dicionário de relacionamentos\n",
    "    relationships = {}\n",
    "    for meta_data_file in os.listdir(\"data/meta-data\"):\n",
    "        table_name = extract_name(meta_data_file)\n",
    "        attributes = read_metadata(meta_data_file)\n",
    "        identifier = attributes[0][0]\n",
    "        meta[table_name] = attributes\n",
    "        keys[identifier] = table_name\n",
    "    for key, val in meta.items():\n",
    "        for col in val:\n",
    "            if col[0] in keys:\n",
    "                if not col[0] == meta[key][0][0]:\n",
    "                    relationships[key] = keys[col[0]]\n",
    "\n",
    "    opcao = prompt()\n",
    "    while opcao != 's':\n",
    "        if opcao == 'l':\n",
    "            for entity_name in meta.keys():\n",
    "                print(entity_name)\n",
    "\n",
    "        elif opcao == 'd':\n",
    "            entity_name = input('Nome da entidade: ')\n",
    "            for col in meta[entity_name]:\n",
    "                print(col)\n",
    "                \n",
    "        elif opcao == 'r':\n",
    "            entity_name = input('Nome da entidade: ')\n",
    "            other_entity = relationships[entity_name]\n",
    "            print(other_entity)\n",
    "\n",
    "        else:\n",
    "            print(\"Inexistente\\n\")\n",
    "        opcao = prompt()\n",
    "        \n",
    "        if __name__ == \"__main__\":\n",
    "            main()"
   ]
  }
 ],
 "metadata": {
  "language_info": {
   "name": "python"
  }
 },
 "nbformat": 4,
 "nbformat_minor": 2
}
