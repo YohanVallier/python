{
 "cells": [
  {
   "cell_type": "markdown",
   "metadata": {},
   "source": [
    "Biblioteca para manipulação em Excell, recuperação de caminhos e interação com o sistema operacional"
   ]
  },
  {
   "cell_type": "code",
   "execution_count": 28,
   "metadata": {},
   "outputs": [],
   "source": [
    "import pandas as pd\n",
    "import glob\n",
    "import pandas as pd\n",
    "import datetime"
   ]
  },
  {
   "cell_type": "code",
   "execution_count": 34,
   "metadata": {},
   "outputs": [
    {
     "name": "stdout",
     "output_type": "stream",
     "text": [
      "20231213\n",
      "['R:\\\\Inteligencia de Mercado\\\\PREMIACAO\\\\FV Premio\\\\2023\\\\20230118 - FV_PREMIO.xlsx', 'R:\\\\Inteligencia de Mercado\\\\PREMIACAO\\\\FV Premio\\\\2023\\\\20230123 - FV_PREMIO.xlsx', 'R:\\\\Inteligencia de Mercado\\\\PREMIACAO\\\\FV Premio\\\\2023\\\\20230130 - FV_PREMIO.xlsx', 'R:\\\\Inteligencia de Mercado\\\\PREMIACAO\\\\FV Premio\\\\2023\\\\20230131 - FV_PREMIO.xlsx', 'R:\\\\Inteligencia de Mercado\\\\PREMIACAO\\\\FV Premio\\\\2023\\\\20230213 - FV_PREMIO.xlsx', 'R:\\\\Inteligencia de Mercado\\\\PREMIACAO\\\\FV Premio\\\\2023\\\\20230228 - FV_PREMIO.xlsx', 'R:\\\\Inteligencia de Mercado\\\\PREMIACAO\\\\FV Premio\\\\2023\\\\20230327 - FV_PREMIO.xlsx', 'R:\\\\Inteligencia de Mercado\\\\PREMIACAO\\\\FV Premio\\\\2023\\\\20230403 - FV_PREMIO.xlsx', 'R:\\\\Inteligencia de Mercado\\\\PREMIACAO\\\\FV Premio\\\\2023\\\\20230410 - FV_PREMIO.xlsx', 'R:\\\\Inteligencia de Mercado\\\\PREMIACAO\\\\FV Premio\\\\2023\\\\20230417 - FV_PREMIO.xlsx', 'R:\\\\Inteligencia de Mercado\\\\PREMIACAO\\\\FV Premio\\\\2023\\\\20230424 - FV_PREMIO.xlsx', 'R:\\\\Inteligencia de Mercado\\\\PREMIACAO\\\\FV Premio\\\\2023\\\\20230428 - FV_PREMIO.xlsx', 'R:\\\\Inteligencia de Mercado\\\\PREMIACAO\\\\FV Premio\\\\2023\\\\20230502 - FV_PREMIO.xlsx', 'R:\\\\Inteligencia de Mercado\\\\PREMIACAO\\\\FV Premio\\\\2023\\\\20230508 - FV_PREMIO.xlsx', 'R:\\\\Inteligencia de Mercado\\\\PREMIACAO\\\\FV Premio\\\\2023\\\\20230515 - FV_PREMIO.xlsx', 'R:\\\\Inteligencia de Mercado\\\\PREMIACAO\\\\FV Premio\\\\2023\\\\20230516 - FV_PREMIO.xlsx', 'R:\\\\Inteligencia de Mercado\\\\PREMIACAO\\\\FV Premio\\\\2023\\\\20230522 - FV_PREMIO.xlsx', 'R:\\\\Inteligencia de Mercado\\\\PREMIACAO\\\\FV Premio\\\\2023\\\\20230529 - FV_PREMIO.xlsx', 'R:\\\\Inteligencia de Mercado\\\\PREMIACAO\\\\FV Premio\\\\2023\\\\20230531 - FV_PREMIO.xlsx', 'R:\\\\Inteligencia de Mercado\\\\PREMIACAO\\\\FV Premio\\\\2023\\\\20230601 - FV_PREMIO.xlsx', 'R:\\\\Inteligencia de Mercado\\\\PREMIACAO\\\\FV Premio\\\\2023\\\\20230605 - FV_PREMIO.xlsx', 'R:\\\\Inteligencia de Mercado\\\\PREMIACAO\\\\FV Premio\\\\2023\\\\20230612 - FV_PREMIO.xlsx', 'R:\\\\Inteligencia de Mercado\\\\PREMIACAO\\\\FV Premio\\\\2023\\\\20230619 - FV_PREMIO.xlsx', 'R:\\\\Inteligencia de Mercado\\\\PREMIACAO\\\\FV Premio\\\\2023\\\\20230626 - FV_PREMIO.xlsx', 'R:\\\\Inteligencia de Mercado\\\\PREMIACAO\\\\FV Premio\\\\2023\\\\20230630 - FV_PREMIO.xlsx', 'R:\\\\Inteligencia de Mercado\\\\PREMIACAO\\\\FV Premio\\\\2023\\\\20230703 - FV_PREMIO.xlsx', 'R:\\\\Inteligencia de Mercado\\\\PREMIACAO\\\\FV Premio\\\\2023\\\\20230704 - FV_PREMIO.xlsx', 'R:\\\\Inteligencia de Mercado\\\\PREMIACAO\\\\FV Premio\\\\2023\\\\20230705 - FV_PREMIO.xlsx', 'R:\\\\Inteligencia de Mercado\\\\PREMIACAO\\\\FV Premio\\\\2023\\\\20230710 - FV PREMIO.xlsx', 'R:\\\\Inteligencia de Mercado\\\\PREMIACAO\\\\FV Premio\\\\2023\\\\20230717 - FV_PREMIO.xlsx', 'R:\\\\Inteligencia de Mercado\\\\PREMIACAO\\\\FV Premio\\\\2023\\\\20230724 - FV_PREMIO.xlsx', 'R:\\\\Inteligencia de Mercado\\\\PREMIACAO\\\\FV Premio\\\\2023\\\\20230727 - FV_PREMIO.xlsx', 'R:\\\\Inteligencia de Mercado\\\\PREMIACAO\\\\FV Premio\\\\2023\\\\20230728 - FV_PREMIO.xlsx', 'R:\\\\Inteligencia de Mercado\\\\PREMIACAO\\\\FV Premio\\\\2023\\\\20230731 - FV_PREMIO.xlsx', 'R:\\\\Inteligencia de Mercado\\\\PREMIACAO\\\\FV Premio\\\\2023\\\\20230807 - FV_PREMIO.xlsx', 'R:\\\\Inteligencia de Mercado\\\\PREMIACAO\\\\FV Premio\\\\2023\\\\20230808 - FV_PREMIO.xlsx', 'R:\\\\Inteligencia de Mercado\\\\PREMIACAO\\\\FV Premio\\\\2023\\\\20230809 - FV_PREMIO.xlsx', 'R:\\\\Inteligencia de Mercado\\\\PREMIACAO\\\\FV Premio\\\\2023\\\\20230810 - FV_PREMIO.xlsx', 'R:\\\\Inteligencia de Mercado\\\\PREMIACAO\\\\FV Premio\\\\2023\\\\20230811 - FV_PREMIO.xlsx', 'R:\\\\Inteligencia de Mercado\\\\PREMIACAO\\\\FV Premio\\\\2023\\\\20230814 - FV_PREMIO.xlsx', 'R:\\\\Inteligencia de Mercado\\\\PREMIACAO\\\\FV Premio\\\\2023\\\\20230815 - FV_PREMIO.xlsx', 'R:\\\\Inteligencia de Mercado\\\\PREMIACAO\\\\FV Premio\\\\2023\\\\20230816 - FV_PREMIO.xlsx', 'R:\\\\Inteligencia de Mercado\\\\PREMIACAO\\\\FV Premio\\\\2023\\\\20230817 - FV_PREMIO.xlsx', 'R:\\\\Inteligencia de Mercado\\\\PREMIACAO\\\\FV Premio\\\\2023\\\\20230818 - FV_PREMIO.xlsx', 'R:\\\\Inteligencia de Mercado\\\\PREMIACAO\\\\FV Premio\\\\2023\\\\20230819 - FV_PREMIO.xlsx', 'R:\\\\Inteligencia de Mercado\\\\PREMIACAO\\\\FV Premio\\\\2023\\\\20230822 - FV_PREMIO.xlsx', 'R:\\\\Inteligencia de Mercado\\\\PREMIACAO\\\\FV Premio\\\\2023\\\\20230823 - FV_PREMIO.xlsx', 'R:\\\\Inteligencia de Mercado\\\\PREMIACAO\\\\FV Premio\\\\2023\\\\20230824 - FV_PREMIO.xlsx', 'R:\\\\Inteligencia de Mercado\\\\PREMIACAO\\\\FV Premio\\\\2023\\\\20230825 - FV_PREMIO.xlsx', 'R:\\\\Inteligencia de Mercado\\\\PREMIACAO\\\\FV Premio\\\\2023\\\\20230828 - FV_PREMIO.xlsx', 'R:\\\\Inteligencia de Mercado\\\\PREMIACAO\\\\FV Premio\\\\2023\\\\20230901 - FV_PREMIO.xlsx', 'R:\\\\Inteligencia de Mercado\\\\PREMIACAO\\\\FV Premio\\\\2023\\\\20230904 - FV_PREMIO.xlsx', 'R:\\\\Inteligencia de Mercado\\\\PREMIACAO\\\\FV Premio\\\\2023\\\\20230905 - FV_PREMIO.xlsx', 'R:\\\\Inteligencia de Mercado\\\\PREMIACAO\\\\FV Premio\\\\2023\\\\20230911 - FV_PREMIO.xlsx', 'R:\\\\Inteligencia de Mercado\\\\PREMIACAO\\\\FV Premio\\\\2023\\\\20230912 - FV_PREMIO.xlsx', 'R:\\\\Inteligencia de Mercado\\\\PREMIACAO\\\\FV Premio\\\\2023\\\\20230915 - FV_PREMIO.xlsx', 'R:\\\\Inteligencia de Mercado\\\\PREMIACAO\\\\FV Premio\\\\2023\\\\20230918 - FV_PREMIO.xlsx', 'R:\\\\Inteligencia de Mercado\\\\PREMIACAO\\\\FV Premio\\\\2023\\\\20230920 - FV_PREMIO.xlsx', 'R:\\\\Inteligencia de Mercado\\\\PREMIACAO\\\\FV Premio\\\\2023\\\\20230925 - FV_PREMIO.xlsx', 'R:\\\\Inteligencia de Mercado\\\\PREMIACAO\\\\FV Premio\\\\2023\\\\20230927 - Força de Venda (Planilha Novo Sharepoint).xlsx', 'R:\\\\Inteligencia de Mercado\\\\PREMIACAO\\\\FV Premio\\\\2023\\\\20231002 - FV_PREMIO.xlsx', 'R:\\\\Inteligencia de Mercado\\\\PREMIACAO\\\\FV Premio\\\\2023\\\\20231003 - FV_PREMIO.xlsx', 'R:\\\\Inteligencia de Mercado\\\\PREMIACAO\\\\FV Premio\\\\2023\\\\20231004 - FV_PREMIO.xlsx', 'R:\\\\Inteligencia de Mercado\\\\PREMIACAO\\\\FV Premio\\\\2023\\\\20231006 - FV_PREMIO.xlsx', 'R:\\\\Inteligencia de Mercado\\\\PREMIACAO\\\\FV Premio\\\\2023\\\\20231009 - FV_PREMIO.xlsx', 'R:\\\\Inteligencia de Mercado\\\\PREMIACAO\\\\FV Premio\\\\2023\\\\20231010 - FV_PREMIO.xlsx', 'R:\\\\Inteligencia de Mercado\\\\PREMIACAO\\\\FV Premio\\\\2023\\\\20231016 - FV_PREMIO.xlsx', 'R:\\\\Inteligencia de Mercado\\\\PREMIACAO\\\\FV Premio\\\\2023\\\\20231017 - FV_PREMIO.xlsx', 'R:\\\\Inteligencia de Mercado\\\\PREMIACAO\\\\FV Premio\\\\2023\\\\20231018 - FV_PREMIO.xlsx', 'R:\\\\Inteligencia de Mercado\\\\PREMIACAO\\\\FV Premio\\\\2023\\\\20231023 - FV_PREMIO.xlsx', 'R:\\\\Inteligencia de Mercado\\\\PREMIACAO\\\\FV Premio\\\\2023\\\\20231030 - FV_PREMIO.xlsx', 'R:\\\\Inteligencia de Mercado\\\\PREMIACAO\\\\FV Premio\\\\2023\\\\20231031 - FV_PREMIO.xlsx', 'R:\\\\Inteligencia de Mercado\\\\PREMIACAO\\\\FV Premio\\\\2023\\\\20231106 - FV_PREMIO.xlsx', 'R:\\\\Inteligencia de Mercado\\\\PREMIACAO\\\\FV Premio\\\\2023\\\\20231108 - FV_PREMIO.xlsx', 'R:\\\\Inteligencia de Mercado\\\\PREMIACAO\\\\FV Premio\\\\2023\\\\20231113 - FV_PREMIO.xlsx', 'R:\\\\Inteligencia de Mercado\\\\PREMIACAO\\\\FV Premio\\\\2023\\\\20231114 - FV _PREMIO.xlsx', 'R:\\\\Inteligencia de Mercado\\\\PREMIACAO\\\\FV Premio\\\\2023\\\\20231116 - FV_PREMIO.xlsx', 'R:\\\\Inteligencia de Mercado\\\\PREMIACAO\\\\FV Premio\\\\2023\\\\20231121- FV_PREMIO.xlsx', 'R:\\\\Inteligencia de Mercado\\\\PREMIACAO\\\\FV Premio\\\\2023\\\\20231122 - FV_PREMIO.xlsx', 'R:\\\\Inteligencia de Mercado\\\\PREMIACAO\\\\FV Premio\\\\2023\\\\20231123 - FV_PREMIO.xlsx', 'R:\\\\Inteligencia de Mercado\\\\PREMIACAO\\\\FV Premio\\\\2023\\\\20231127 - FV_PREMIO.xlsx', 'R:\\\\Inteligencia de Mercado\\\\PREMIACAO\\\\FV Premio\\\\2023\\\\20231130 - FV_PREMIO.xlsx', 'R:\\\\Inteligencia de Mercado\\\\PREMIACAO\\\\FV Premio\\\\2023\\\\20231204 - FV_PREMIO.xlsx', 'R:\\\\Inteligencia de Mercado\\\\PREMIACAO\\\\FV Premio\\\\2023\\\\20231205 - FV_PREMIO.xlsx', 'R:\\\\Inteligencia de Mercado\\\\PREMIACAO\\\\FV Premio\\\\2023\\\\20231207 - FV PREMIO.xlsx', 'R:\\\\Inteligencia de Mercado\\\\PREMIACAO\\\\FV Premio\\\\2023\\\\20231211- FV PREMIO.xlsx', 'R:\\\\Inteligencia de Mercado\\\\PREMIACAO\\\\FV Premio\\\\2023\\\\20231212- FV PREMIO.xlsx']\n"
     ]
    },
    {
     "ename": "TypeError",
     "evalue": "'in <string>' requires string as left operand, not list",
     "output_type": "error",
     "traceback": [
      "\u001b[1;31m---------------------------------------------------------------------------\u001b[0m",
      "\u001b[1;31mTypeError\u001b[0m                                 Traceback (most recent call last)",
      "Cell \u001b[1;32mIn[34], line 9\u001b[0m\n\u001b[0;32m      6\u001b[0m c \u001b[38;5;241m=\u001b[39m \u001b[38;5;241m0\u001b[39m\n\u001b[0;32m      7\u001b[0m \u001b[38;5;28mprint\u001b[39m(caminho_xlsx)\n\u001b[1;32m----> 9\u001b[0m \u001b[38;5;28;01mif\u001b[39;00m \u001b[43m[\u001b[49m\u001b[38;5;124;43m\"\u001b[39;49m\u001b[38;5;124;43m20230118\u001b[39;49m\u001b[38;5;124;43m\"\u001b[39;49m\u001b[43m]\u001b[49m\u001b[43m \u001b[49m\u001b[38;5;129;43;01min\u001b[39;49;00m\u001b[43m \u001b[49m\u001b[43mcaminho\u001b[49m:\n\u001b[0;32m     10\u001b[0m     c \u001b[38;5;241m+\u001b[39m\u001b[38;5;241m=\u001b[39m \u001b[38;5;241m1\u001b[39m\n\u001b[0;32m     11\u001b[0m \u001b[38;5;28mprint\u001b[39m(c)\n",
      "\u001b[1;31mTypeError\u001b[0m: 'in <string>' requires string as left operand, not list"
     ]
    }
   ],
   "source": [
    "d = str(datetime.date.today())\n",
    "print(d[0:4] + d[5:7] + d[8:])\n",
    "caminho = r\"R:\\Inteligencia de Mercado\\PREMIACAO\\FV Premio\\2023\"\n",
    "caminho_xlsx = glob.glob(caminho + \"/*.xlsx\")\n",
    "num = len(caminho) + 1\n",
    "c = 0\n",
    "print(caminho_xlsx)\n"
   ]
  },
  {
   "cell_type": "markdown",
   "metadata": {},
   "source": [
    "Aditivo RX"
   ]
  },
  {
   "cell_type": "code",
   "execution_count": 19,
   "metadata": {},
   "outputs": [],
   "source": [
    "caminho_rx = \"R:\\Inteligencia de Mercado\\PREMIACAO\\REGULAMENTOS e CAMPANHAS\\Levantamento de aceites\\Base de Aceites 2023\\RX\"\n",
    "caminho_rx_xlsx = glob.glob(caminho_rx + \"/*.xlsx\")\n",
    "num_rx = len(caminho_rx)\n",
    "\n",
    "list_rx = []\n",
    "for c in caminho_rx_xlsx:\n",
    "    df_rx_ler = pd.read_excel(caminho_rx + c[num_rx:], header = 1)\n",
    "    df_rx_ler[\"TIPO_REGULAMENTO\"] = c[num_rx : -5] \n",
    "    list_rx.append(df_rx_ler)\n",
    "\n",
    "\n",
    "consolid_rx = pd.concat(list_rx, axis = 0, ignore_index = True)\n",
    "consolid_rx \n",
    "consolid_rx.to_excel(\"R:\\Inteligencia de Mercado\\PREMIACAO\\REGULAMENTOS e CAMPANHAS\\Levantamento de aceites\\Levantamento de aceites Rx.xlsx\")"
   ]
  },
  {
   "cell_type": "markdown",
   "metadata": {},
   "source": [
    "Comercial"
   ]
  },
  {
   "cell_type": "code",
   "execution_count": 20,
   "metadata": {},
   "outputs": [],
   "source": [
    "caminho_comercial = \"R:\\Inteligencia de Mercado\\PREMIACAO\\REGULAMENTOS e CAMPANHAS\\Levantamento de aceites\\Base de Aceites 2023\\Comercial\"\n",
    "caminho_comercial_xlsx = glob.glob(caminho_comercial + \"/*.xlsx\")\n",
    "num_comercial = len(caminho_comercial)\n",
    "\n",
    "list_comercial = []\n",
    "for c in caminho_comercial_xlsx:\n",
    "    df_comercial_ler = pd.read_excel(caminho_comercial + c[num_comercial:], header = 1)\n",
    "    df_comercial_ler[\"TIPO_REGULAMENTO\"] = c[num_comercial : -5]\n",
    "    list_comercial.append(df_comercial_ler)\n",
    "\n",
    "consolid_comercial = pd.concat(list_comercial, axis = 0, ignore_index = True)\n",
    "consolid_comercial.to_excel(\"R:\\Inteligencia de Mercado\\PREMIACAO\\REGULAMENTOS e CAMPANHAS\\Levantamento de aceites\\Levantamento de aceites Comercial.xlsx\")"
   ]
  },
  {
   "cell_type": "markdown",
   "metadata": {},
   "source": [
    "Consumo KAM"
   ]
  },
  {
   "cell_type": "code",
   "execution_count": 21,
   "metadata": {},
   "outputs": [],
   "source": [
    "caminho_KAM = \"R:\\Inteligencia de Mercado\\PREMIACAO\\REGULAMENTOS e CAMPANHAS\\Levantamento de aceites\\Base de Aceites 2023\\Consumo KAM\"\n",
    "caminho_KAM_xlsx = glob.glob(caminho_KAM + \"/*.xlsx\")\n",
    "num_KAM = len(caminho_KAM)\n",
    "\n",
    "list_KAM = []\n",
    "for c in caminho_KAM_xlsx:\n",
    "    df_KAM_ler = pd.read_excel(caminho_KAM + c[num_KAM:], header = 1)\n",
    "    df_KAM_ler[\"TIPO_REGULAMENTO\"] = c[num_KAM : -5]\n",
    "    list_KAM.append(df_KAM_ler)\n",
    "\n",
    "consolid_KAM = pd.concat(list_KAM, axis = 0, ignore_index = True)\n",
    "consolid_KAM.to_excel(\"R:\\Inteligencia de Mercado\\PREMIACAO\\REGULAMENTOS e CAMPANHAS\\Levantamento de aceites\\Levantamento de aceites Consumo_KAM.xlsx\")"
   ]
  },
  {
   "cell_type": "markdown",
   "metadata": {},
   "source": [
    "Consumo SUP e Promo"
   ]
  },
  {
   "cell_type": "code",
   "execution_count": 22,
   "metadata": {},
   "outputs": [],
   "source": [
    "caminho_SUP_Promo = \"R:\\Inteligencia de Mercado\\PREMIACAO\\REGULAMENTOS e CAMPANHAS\\Levantamento de aceites\\Base de Aceites 2023\\Consumo Sup.Promo.DIV\"\n",
    "caminho_SUP_Promo_xlsx = glob.glob(caminho_SUP_Promo + \"/*.xlsx\")\n",
    "num_SUP_Promo = len(caminho_SUP_Promo)\n",
    "\n",
    "list_SUP_Promo = []\n",
    "for c in caminho_SUP_Promo_xlsx:\n",
    "    df_SUP_Promo = pd.read_excel(caminho_SUP_Promo + c[num_SUP_Promo:], header = 1)\n",
    "    df_SUP_Promo[\"TIPO_REGULAMENTO\"] = c[num_SUP_Promo : -5]\n",
    "    list_SUP_Promo.append(df_SUP_Promo)\n",
    "\n",
    "consolid_SUP_Promo = pd.concat(list_SUP_Promo, axis = 0, ignore_index = True)\n",
    "consolid_SUP_Promo.to_excel(\"R:\\Inteligencia de Mercado\\PREMIACAO\\REGULAMENTOS e CAMPANHAS\\Levantamento de aceites\\Levantamento de aceites Consumo_PROMO.xlsx\")"
   ]
  },
  {
   "cell_type": "markdown",
   "metadata": {},
   "source": [
    "Hospital"
   ]
  },
  {
   "cell_type": "code",
   "execution_count": 23,
   "metadata": {},
   "outputs": [],
   "source": [
    "caminho_hospital = \"R:\\Inteligencia de Mercado\\PREMIACAO\\REGULAMENTOS e CAMPANHAS\\Levantamento de aceites\\Base de Aceites 2023\\Hospitalar\"\n",
    "caminho_hospital_xlsx = glob.glob(caminho_hospital + \"/*.xlsx\")\n",
    "num_hospital = len(caminho_hospital)\n",
    "\n",
    "list_hospital = []\n",
    "for c in caminho_hospital_xlsx:\n",
    "    df_hospital_ler = pd.read_excel(caminho_hospital + c[num_hospital:], header = 1)\n",
    "    df_hospital_ler[\"TIPO_REGULAMENTO\"] = c[num_hospital : -5]\n",
    "    list_hospital.append(df_hospital_ler)\n",
    "    \n",
    "consolid_hospital = pd.concat(list_hospital, axis = 0, ignore_index = True)\n",
    "consolid_hospital.to_excel(\"R:\\Inteligencia de Mercado\\PREMIACAO\\REGULAMENTOS e CAMPANHAS\\Levantamento de aceites\\Levantamento de aceites Hospitalar.xlsx\")"
   ]
  },
  {
   "cell_type": "markdown",
   "metadata": {},
   "source": [
    "OL"
   ]
  },
  {
   "cell_type": "code",
   "execution_count": 24,
   "metadata": {},
   "outputs": [],
   "source": [
    "caminho_ol = \"R:\\Inteligencia de Mercado\\PREMIACAO\\REGULAMENTOS e CAMPANHAS\\Levantamento de aceites\\Base de Aceites 2023\\OL\"\n",
    "caminho_ol_xlsx = glob.glob(caminho_ol + \"/*.xlsx\")\n",
    "num_ol = len(caminho_ol)\n",
    "\n",
    "list_ol = []\n",
    "for c in caminho_ol_xlsx:\n",
    "    df_ol_ler = pd.read_excel(caminho_ol + c[num_ol:], header = 1)\n",
    "    df_ol_ler[\"TIPO_REGULAMENTO\"] = c[num_ol : -5]\n",
    "    list_ol.append(df_ol_ler)\n",
    "    \n",
    "consolid_ol = pd.concat(list_ol, axis = 0, ignore_index = True)\n",
    "consolid_ol.to_excel(\"R:\\Inteligencia de Mercado\\PREMIACAO\\REGULAMENTOS e CAMPANHAS\\Levantamento de aceites\\Levantamento de aceites OL.xlsx\")"
   ]
  }
 ],
 "metadata": {
  "kernelspec": {
   "display_name": "Python 3",
   "language": "python",
   "name": "python3"
  },
  "language_info": {
   "codemirror_mode": {
    "name": "ipython",
    "version": 3
   },
   "file_extension": ".py",
   "mimetype": "text/x-python",
   "name": "python",
   "nbconvert_exporter": "python",
   "pygments_lexer": "ipython3",
   "version": "3.11.5"
  },
  "orig_nbformat": 4
 },
 "nbformat": 4,
 "nbformat_minor": 2
}
