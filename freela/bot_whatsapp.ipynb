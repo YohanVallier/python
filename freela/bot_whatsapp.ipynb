{
 "cells": [
  {
   "cell_type": "code",
   "execution_count": null,
   "metadata": {},
   "outputs": [],
   "source": [
    "import selenium \n",
    "import pandas as pd\n",
    "from selenium import webdriver\n",
    "from selenium.webdriver.common.by import By\n",
    "import openpyxl\n",
    "from selenium.webdriver.common.keys import Keys\n",
    "from selenium.webdriver.support.ui import WebDriverWait\n",
    "from selenium.webdriver.support import expected_conditions as EC"
   ]
  },
  {
   "cell_type": "code",
   "execution_count": null,
   "metadata": {},
   "outputs": [],
   "source": [
    "planilha = pd.read_excel('informações fixas.xlsx')"
   ]
  },
  {
   "cell_type": "code",
   "execution_count": null,
   "metadata": {},
   "outputs": [],
   "source": [
    "driver = webdriver.Chrome()\n",
    "driver.get('https://web.whatsapp.com/')"
   ]
  },
  {
   "cell_type": "code",
   "execution_count": null,
   "metadata": {},
   "outputs": [],
   "source": [
    "for i, col in enumerate(planilha['Nome']):\n",
    "    nome = planilha.loc[i, \"Nome\"]\n",
    "    telefone = planilha.loc[i, 'Telefone']\n",
    "    divida = planilha.loc[i, 'Dívida']\n",
    "    proposta = planilha.loc[i, 'Proposta']\n",
    "    desconto = planilha.loc[i, 'Desconto']\n",
    "    abatimento = planilha.loc[i, 'Abatimento']\n",
    "    mensagem = driver.find_element(By.XPATH, '//*[@id=\"main\"]/footer/div[1]/div/span[2]/div/div[2]/div[1]/div/div[1]/p')\n",
    "    enter = driver.find_element(By.XPATH, '//*[@id=\"main\"]/footer/div[1]/div/span[2]/div/div[2]/div[2]/button/span')\n",
    "    nova_con = driver.find_element(By.XPATH, '//*[@id=\"app\"]/div/div[2]/div[3]/header/div[2]/div/span/div[4]/div/span')\n",
    "    mensagem.send_keys(f'Boa tarde, {nome}.')\n",
    "    mensagem.send_keys(Keys.SHIFT + Keys.ENTER)\n",
    "    mensagem.send_keys(f'Tudo bem?')\n",
    "    mensagem.send_keys(Keys.SHIFT + Keys.ENTER)\n",
    "    mensagem.send_keys(f'Me chamo Marcel e trabalho para o Banco XYZ agência ABC, de onde você é cliente.')\n",
    "    mensagem.send_keys(Keys.SHIFT + Keys.ENTER)\n",
    "    mensagem.send_keys(f'Com a continuidade do Desenrola Brasil, suas dívidas podem ser liquidadas com um ótimo desconto. Mas essa campanha tem tempo limitado.Os {divida} em aberto podem ser liquidados por apenas {proposta}')"
   ]
  }
 ],
 "metadata": {
  "kernelspec": {
   "display_name": "Python 3",
   "language": "python",
   "name": "python3"
  },
  "language_info": {
   "codemirror_mode": {
    "name": "ipython",
    "version": 3
   },
   "file_extension": ".py",
   "mimetype": "text/x-python",
   "name": "python",
   "nbconvert_exporter": "python",
   "pygments_lexer": "ipython3",
   "version": "3.10.12"
  }
 },
 "nbformat": 4,
 "nbformat_minor": 2
}
