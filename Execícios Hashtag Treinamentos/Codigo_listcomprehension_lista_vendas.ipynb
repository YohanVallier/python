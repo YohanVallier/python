{
 "cells": [
  {
   "cell_type": "markdown",
   "metadata": {},
   "source": [
    "Produtos e suas respectivas vendas em 2019 e 2020"
   ]
  },
  {
   "cell_type": "code",
   "execution_count": 2,
   "metadata": {},
   "outputs": [],
   "source": [
    "vendas_produtos = [('iphone', 558147, 951642), ('galaxy', 712350, 244295), ('ipad', 573823, 26964), ('tv', 405252, 787604), ('máquina de café', 718654, 867660), ('kindle', 531580, 78830), ('geladeira', 973139, 710331), ('adega', 892292, 646016), ('notebook dell', 422760, 694913), ('notebook hp', 154753, 539704), ('notebook asus', 887061, 324831), ('microsoft surface', 438508, 667179), ('webcam', 237467, 295633), ('caixa de som', 489705, 725316), ('microfone', 328311, 644622), ('câmera canon', 591120, 994303)]"
   ]
  },
  {
   "cell_type": "markdown",
   "metadata": {},
   "source": [
    "Lista com as vendas de 2019 em ListComprehension"
   ]
  },
  {
   "cell_type": "code",
   "execution_count": null,
   "metadata": {},
   "outputs": [],
   "source": [
    "lista_maior_2019 = [ven_2019 for produtos, ven_2019, ven_2020 in vendas_produtos]\n",
    "lista_maior_2019.sort(reverse=True)\n"
   ]
  },
  {
   "cell_type": "code",
   "execution_count": null,
   "metadata": {},
   "outputs": [],
   "source": [
    "print(lista_maior_2019)"
   ]
  },
  {
   "cell_type": "markdown",
   "metadata": {},
   "source": [
    "Lista com produtos e vendas em maior 2019 em ListComprehension"
   ]
  },
  {
   "cell_type": "code",
   "execution_count": 13,
   "metadata": {},
   "outputs": [
    {
     "name": "stdout",
     "output_type": "stream",
     "text": [
      "[[(973139, 'geladeira')], [(892292, 'adega')], [(887061, 'notebook asus')], [(718654, 'máquina de café')], [(712350, 'galaxy')], [(591120, 'câmera canon')], [(573823, 'ipad')], [(558147, 'iphone')], [(531580, 'kindle')], [(489705, 'caixa de som')], [(438508, 'microsoft surface')], [(422760, 'notebook dell')], [(405252, 'tv')], [(328311, 'microfone')], [(237467, 'webcam')], [(154753, 'notebook hp')]]\n"
     ]
    }
   ],
   "source": [
    "lista_maior_2019_prod = [list(zip([ven_2019], [produtos])) for produtos, ven_2019, ven_2020 in vendas_produtos]\n",
    "lista_maior_2019_prod.sort(reverse=True)\n",
    "    \n",
    "print(lista_maior_2019_prod)"
   ]
  },
  {
   "cell_type": "markdown",
   "metadata": {},
   "source": [
    "Lista com produtos e vendas em maior 2019 utiizando a estrutura for normalmente"
   ]
  },
  {
   "cell_type": "code",
   "execution_count": 16,
   "metadata": {},
   "outputs": [
    {
     "name": "stdout",
     "output_type": "stream",
     "text": [
      "[[(973139, 'geladeira')], [(892292, 'adega')], [(887061, 'notebook asus')], [(718654, 'máquina de café')], [(712350, 'galaxy')], [(591120, 'câmera canon')], [(573823, 'ipad')], [(558147, 'iphone')], [(531580, 'kindle')], [(489705, 'caixa de som')], [(438508, 'microsoft surface')], [(422760, 'notebook dell')], [(405252, 'tv')], [(328311, 'microfone')], [(237467, 'webcam')], [(154753, 'notebook hp')]]\n"
     ]
    }
   ],
   "source": [
    "lista_maior_2019_prod = []\n",
    "for produtos, ven_2019, ven_2020 in vendas_produtos:\n",
    "    lista_maior_2019_prod.append(list(zip([ven_2019], [produtos])))\n",
    "    lista_maior_2019_prod.sort(reverse=True)\n",
    "\n",
    "print(lista_maior_2019_prod)"
   ]
  }
 ],
 "metadata": {
  "kernelspec": {
   "display_name": "Python 3",
   "language": "python",
   "name": "python3"
  },
  "language_info": {
   "codemirror_mode": {
    "name": "ipython",
    "version": 3
   },
   "file_extension": ".py",
   "mimetype": "text/x-python",
   "name": "python",
   "nbconvert_exporter": "python",
   "pygments_lexer": "ipython3",
   "version": "3.10.12"
  }
 },
 "nbformat": 4,
 "nbformat_minor": 2
}
