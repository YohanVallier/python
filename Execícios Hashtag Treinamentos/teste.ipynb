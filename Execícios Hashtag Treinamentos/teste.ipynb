{
 "cells": [
  {
   "cell_type": "code",
   "execution_count": 6,
   "metadata": {},
   "outputs": [],
   "source": [
    "import win32com.client as win32"
   ]
  },
  {
   "cell_type": "code",
   "execution_count": 14,
   "metadata": {},
   "outputs": [
    {
     "ename": "com_error",
     "evalue": "(-2147221005, 'Cadeia de caracteres de classe inválida', None, None)",
     "output_type": "error",
     "traceback": [
      "\u001b[1;31m---------------------------------------------------------------------------\u001b[0m",
      "\u001b[1;31mcom_error\u001b[0m                                 Traceback (most recent call last)",
      "File \u001b[1;32m~\\AppData\\Roaming\\Python\\Python313\\site-packages\\win32com\\client\\dynamic.py:80\u001b[0m, in \u001b[0;36m_GetGoodDispatch\u001b[1;34m(IDispatch, clsctx)\u001b[0m\n\u001b[0;32m     79\u001b[0m \u001b[38;5;28;01mtry\u001b[39;00m:\n\u001b[1;32m---> 80\u001b[0m     IDispatch \u001b[38;5;241m=\u001b[39m \u001b[43mpythoncom\u001b[49m\u001b[38;5;241;43m.\u001b[39;49m\u001b[43mconnect\u001b[49m\u001b[43m(\u001b[49m\u001b[43mIDispatch\u001b[49m\u001b[43m)\u001b[49m\n\u001b[0;32m     81\u001b[0m \u001b[38;5;28;01mexcept\u001b[39;00m pythoncom\u001b[38;5;241m.\u001b[39mole_error:\n",
      "\u001b[1;31mcom_error\u001b[0m: (-2147221005, 'Cadeia de caracteres de classe inválida', None, None)",
      "\nDuring handling of the above exception, another exception occurred:\n",
      "\u001b[1;31mcom_error\u001b[0m                                 Traceback (most recent call last)",
      "Cell \u001b[1;32mIn[14], line 1\u001b[0m\n\u001b[1;32m----> 1\u001b[0m outlook \u001b[38;5;241m=\u001b[39m \u001b[43mwin32\u001b[49m\u001b[38;5;241;43m.\u001b[39;49m\u001b[43mDispatch\u001b[49m\u001b[43m(\u001b[49m\u001b[38;5;124;43m\"\u001b[39;49m\u001b[38;5;124;43moutlook.application\u001b[39;49m\u001b[38;5;124;43m\"\u001b[39;49m\u001b[43m)\u001b[49m\n",
      "File \u001b[1;32m~\\AppData\\Roaming\\Python\\Python313\\site-packages\\win32com\\client\\__init__.py:114\u001b[0m, in \u001b[0;36mDispatch\u001b[1;34m(dispatch, userName, resultCLSID, typeinfo, clsctx)\u001b[0m\n\u001b[0;32m    106\u001b[0m \u001b[38;5;28;01mdef\u001b[39;00m \u001b[38;5;21mDispatch\u001b[39m(\n\u001b[0;32m    107\u001b[0m     dispatch,\n\u001b[0;32m    108\u001b[0m     userName\u001b[38;5;241m=\u001b[39m\u001b[38;5;28;01mNone\u001b[39;00m,\n\u001b[1;32m   (...)\u001b[0m\n\u001b[0;32m    111\u001b[0m     clsctx\u001b[38;5;241m=\u001b[39mpythoncom\u001b[38;5;241m.\u001b[39mCLSCTX_SERVER,\n\u001b[0;32m    112\u001b[0m ):\n\u001b[0;32m    113\u001b[0m \u001b[38;5;250m    \u001b[39m\u001b[38;5;124;03m\"\"\"Creates a Dispatch based COM object.\"\"\"\u001b[39;00m\n\u001b[1;32m--> 114\u001b[0m     dispatch, userName \u001b[38;5;241m=\u001b[39m \u001b[43mdynamic\u001b[49m\u001b[38;5;241;43m.\u001b[39;49m\u001b[43m_GetGoodDispatchAndUserName\u001b[49m\u001b[43m(\u001b[49m\u001b[43mdispatch\u001b[49m\u001b[43m,\u001b[49m\u001b[43m \u001b[49m\u001b[43muserName\u001b[49m\u001b[43m,\u001b[49m\u001b[43m \u001b[49m\u001b[43mclsctx\u001b[49m\u001b[43m)\u001b[49m\n\u001b[0;32m    115\u001b[0m     \u001b[38;5;28;01mreturn\u001b[39;00m __WrapDispatch(dispatch, userName, resultCLSID, typeinfo, clsctx\u001b[38;5;241m=\u001b[39mclsctx)\n",
      "File \u001b[1;32m~\\AppData\\Roaming\\Python\\Python313\\site-packages\\win32com\\client\\dynamic.py:100\u001b[0m, in \u001b[0;36m_GetGoodDispatchAndUserName\u001b[1;34m(IDispatch, userName, clsctx)\u001b[0m\n\u001b[0;32m     97\u001b[0m     \u001b[38;5;66;03m## ??? else userName remains None ???\u001b[39;00m\n\u001b[0;32m     98\u001b[0m \u001b[38;5;28;01melse\u001b[39;00m:\n\u001b[0;32m     99\u001b[0m     userName \u001b[38;5;241m=\u001b[39m \u001b[38;5;28mstr\u001b[39m(userName)\n\u001b[1;32m--> 100\u001b[0m \u001b[38;5;28;01mreturn\u001b[39;00m (\u001b[43m_GetGoodDispatch\u001b[49m\u001b[43m(\u001b[49m\u001b[43mIDispatch\u001b[49m\u001b[43m,\u001b[49m\u001b[43m \u001b[49m\u001b[43mclsctx\u001b[49m\u001b[43m)\u001b[49m, userName)\n",
      "File \u001b[1;32m~\\AppData\\Roaming\\Python\\Python313\\site-packages\\win32com\\client\\dynamic.py:82\u001b[0m, in \u001b[0;36m_GetGoodDispatch\u001b[1;34m(IDispatch, clsctx)\u001b[0m\n\u001b[0;32m     80\u001b[0m         IDispatch \u001b[38;5;241m=\u001b[39m pythoncom\u001b[38;5;241m.\u001b[39mconnect(IDispatch)\n\u001b[0;32m     81\u001b[0m     \u001b[38;5;28;01mexcept\u001b[39;00m pythoncom\u001b[38;5;241m.\u001b[39mole_error:\n\u001b[1;32m---> 82\u001b[0m         IDispatch \u001b[38;5;241m=\u001b[39m \u001b[43mpythoncom\u001b[49m\u001b[38;5;241;43m.\u001b[39;49m\u001b[43mCoCreateInstance\u001b[49m\u001b[43m(\u001b[49m\n\u001b[0;32m     83\u001b[0m \u001b[43m            \u001b[49m\u001b[43mIDispatch\u001b[49m\u001b[43m,\u001b[49m\u001b[43m \u001b[49m\u001b[38;5;28;43;01mNone\u001b[39;49;00m\u001b[43m,\u001b[49m\u001b[43m \u001b[49m\u001b[43mclsctx\u001b[49m\u001b[43m,\u001b[49m\u001b[43m \u001b[49m\u001b[43mpythoncom\u001b[49m\u001b[38;5;241;43m.\u001b[39;49m\u001b[43mIID_IDispatch\u001b[49m\n\u001b[0;32m     84\u001b[0m \u001b[43m        \u001b[49m\u001b[43m)\u001b[49m\n\u001b[0;32m     85\u001b[0m \u001b[38;5;28;01melse\u001b[39;00m:\n\u001b[0;32m     86\u001b[0m     \u001b[38;5;66;03m# may already be a wrapped class.\u001b[39;00m\n\u001b[0;32m     87\u001b[0m     IDispatch \u001b[38;5;241m=\u001b[39m \u001b[38;5;28mgetattr\u001b[39m(IDispatch, \u001b[38;5;124m\"\u001b[39m\u001b[38;5;124m_oleobj_\u001b[39m\u001b[38;5;124m\"\u001b[39m, IDispatch)\n",
      "\u001b[1;31mcom_error\u001b[0m: (-2147221005, 'Cadeia de caracteres de classe inválida', None, None)"
     ]
    }
   ],
   "source": [
    "outlook = win32.Dispatch(\"outlook.application\")\n",
    "\n"
   ]
  }
 ],
 "metadata": {
  "kernelspec": {
   "display_name": "Python 3",
   "language": "python",
   "name": "python3"
  },
  "language_info": {
   "codemirror_mode": {
    "name": "ipython",
    "version": 3
   },
   "file_extension": ".py",
   "mimetype": "text/x-python",
   "name": "python",
   "nbconvert_exporter": "python",
   "pygments_lexer": "ipython3",
   "version": "3.13.0"
  }
 },
 "nbformat": 4,
 "nbformat_minor": 2
}
