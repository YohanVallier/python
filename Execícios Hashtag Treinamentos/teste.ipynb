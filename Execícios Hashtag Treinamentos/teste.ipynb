{
 "cells": [
  {
   "cell_type": "code",
   "execution_count": 4,
   "metadata": {},
   "outputs": [],
   "source": [
    "precos_imoveis = [2.17,1.54,1.45,1.94,2.37,2.3,1.79,1.8,2.25,1.37]\n",
    "tamanho_imoveis = [207,148,130,203,257,228,160,194,232,147]"
   ]
  },
  {
   "cell_type": "code",
   "execution_count": 11,
   "metadata": {},
   "outputs": [],
   "source": [
    "def separacao(precos, tamanho, fator):\n",
    "    if len(precos) == len(tamanho):\n",
    "        i = int((1 - fator) * len(precos))\n",
    "        precos_teste = (f'Teste {precos[i:]}')\n",
    "        precos_treino = (f'Treino {precos[:i]}')\n",
    "        tamanho_teste = (f'Teste {tamanho[i:]}')\n",
    "        tamanho_treino = (f'Treino {tamanho[:i]}')\n",
    "    return (precos_teste, precos_treino), (tamanho_teste, tamanho_treino)"
   ]
  },
  {
   "cell_type": "code",
   "execution_count": 12,
   "metadata": {},
   "outputs": [
    {
     "name": "stdout",
     "output_type": "stream",
     "text": [
      "(('Teste [2.25, 1.37]', 'Treino [2.17, 1.54, 1.45, 1.94, 2.37, 2.3, 1.79, 1.8]'), ('Teste [232, 147]', 'Treino [207, 148, 130, 203, 257, 228, 160, 194]'))\n"
     ]
    }
   ],
   "source": [
    "print(separacao(precos_imoveis, tamanho_imoveis, 0.2))"
   ]
  }
 ],
 "metadata": {
  "kernelspec": {
   "display_name": "Python 3",
   "language": "python",
   "name": "python3"
  },
  "language_info": {
   "codemirror_mode": {
    "name": "ipython",
    "version": 3
   },
   "file_extension": ".py",
   "mimetype": "text/x-python",
   "name": "python",
   "nbconvert_exporter": "python",
   "pygments_lexer": "ipython3",
   "version": "3.11.8"
  }
 },
 "nbformat": 4,
 "nbformat_minor": 2
}
