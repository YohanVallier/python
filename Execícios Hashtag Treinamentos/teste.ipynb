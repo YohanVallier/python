{
 "cells": [
  {
   "cell_type": "markdown",
   "metadata": {},
   "source": [
    "Vendedores com suas vendas e meta a ser batida"
   ]
  },
  {
   "cell_type": "code",
   "execution_count": 31,
   "metadata": {},
   "outputs": [],
   "source": [
    "meta = 10000\n",
    "vendas = {\n",
    "    'João': 15000,\n",
    "    'Julia': 27000,\n",
    "    'Marcus': 9900,\n",
    "    'Maria': 3750,\n",
    "    'Ana': 10300,\n",
    "    'Alon': 7870,\n",
    "}"
   ]
  },
  {
   "cell_type": "markdown",
   "metadata": {},
   "source": [
    "Função que verifica o percentual de vendedores que bateram a meta mais o uma lista com as pessoas que bateram a meta"
   ]
  },
  {
   "cell_type": "code",
   "execution_count": 32,
   "metadata": {},
   "outputs": [],
   "source": [
    "def percentual_vendedores(vendas):\n",
    "    lista_vendedores = []\n",
    "    for vendedores_chave in vendas:\n",
    "        if vendas[vendedores_chave] >= meta:\n",
    "            lista_vendedores.append(vendedores_chave)\n",
    "    percentual = (len(vendas) / len(lista_vendedores))/100\n",
    "    return lista_vendedores, f'{percentual:.0%}'"
   ]
  },
  {
   "cell_type": "code",
   "execution_count": 33,
   "metadata": {},
   "outputs": [
    {
     "name": "stdout",
     "output_type": "stream",
     "text": [
      "(['João', 'Julia', 'Ana'], '2%')\n"
     ]
    }
   ],
   "source": [
    "print(percentual_vendedores(vendas))"
   ]
  }
 ],
 "metadata": {
  "kernelspec": {
   "display_name": "Python 3",
   "language": "python",
   "name": "python3"
  },
  "language_info": {
   "codemirror_mode": {
    "name": "ipython",
    "version": 3
   },
   "file_extension": ".py",
   "mimetype": "text/x-python",
   "name": "python",
   "nbconvert_exporter": "python",
   "pygments_lexer": "ipython3",
   "version": "3.11.8"
  }
 },
 "nbformat": 4,
 "nbformat_minor": 2
}
