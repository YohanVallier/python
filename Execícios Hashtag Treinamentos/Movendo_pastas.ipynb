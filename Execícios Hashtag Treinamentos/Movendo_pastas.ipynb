{
 "cells": [
  {
   "cell_type": "code",
   "execution_count": 25,
   "metadata": {},
   "outputs": [],
   "source": [
    "from pathlib import Path\n",
    "import shutil"
   ]
  },
  {
   "cell_type": "code",
   "execution_count": 3,
   "metadata": {},
   "outputs": [],
   "source": [
    "caminho = Path(\"c:/Users/braio/OneDrive/מסמכים/Cursos/Python Impressionador - Hashtag Treinamento/21.Integração Python - Arquivos e Pastas do Computador/MATERIAL DE APOIO/Arquivos_Lojas\")"
   ]
  },
  {
   "cell_type": "code",
   "execution_count": 10,
   "metadata": {},
   "outputs": [],
   "source": [
    "RJ = Path(\"c:/Users/braio/OneDrive/מסמכים/Cursos/Python Impressionador - Hashtag Treinamento/21.Integração Python - Arquivos e Pastas do Computador/MATERIAL DE APOIO/Arquivos_Lojas/RJ\")\n",
    "SP = Path(\"c:/Users/braio/OneDrive/מסמכים/Cursos/Python Impressionador - Hashtag Treinamento/21.Integração Python - Arquivos e Pastas do Computador/MATERIAL DE APOIO/Arquivos_Lojas/SP\")\n",
    "MG = Path(\"c:/Users/braio/OneDrive/מסמכים/Cursos/Python Impressionador - Hashtag Treinamento/21.Integração Python - Arquivos e Pastas do Computador/MATERIAL DE APOIO/Arquivos_Lojas/MG\")\n",
    "GO = Path(\"c:/Users/braio/OneDrive/מסמכים/Cursos/Python Impressionador - Hashtag Treinamento/21.Integração Python - Arquivos e Pastas do Computador/MATERIAL DE APOIO/Arquivos_Lojas/GO\")\n",
    "AM = Path(\"c:/Users/braio/OneDrive/מסמכים/Cursos/Python Impressionador - Hashtag Treinamento/21.Integração Python - Arquivos e Pastas do Computador/MATERIAL DE APOIO/Arquivos_Lojas/AM\")"
   ]
  },
  {
   "cell_type": "code",
   "execution_count": 28,
   "metadata": {},
   "outputs": [],
   "source": [
    "lista = list(caminho.iterdir())\n",
    "for item in lista:\n",
    "    if \"RJ\" in item.name:\n",
    "        shutil.move(Path(caminho/item.name), RJ)\n",
    "    if \"SP\" in item.name:\n",
    "        shutil.move(Path(caminho/item.name), SP)\n",
    "    if \"MG\" in item.name:\n",
    "        shutil.move(Path(caminho/item.name), MG)\n",
    "    if \"GO\" in item.name:\n",
    "        shutil.move(Path(caminho/item.name), GO)\n",
    "    if \"AM\" in item.name:\n",
    "        shutil.move(Path(caminho/item.name), AM)"
   ]
  }
 ],
 "metadata": {
  "kernelspec": {
   "display_name": "Python 3",
   "language": "python",
   "name": "python3"
  },
  "language_info": {
   "codemirror_mode": {
    "name": "ipython",
    "version": 3
   },
   "file_extension": ".py",
   "mimetype": "text/x-python",
   "name": "python",
   "nbconvert_exporter": "python",
   "pygments_lexer": "ipython3",
   "version": "3.12.3"
  }
 },
 "nbformat": 4,
 "nbformat_minor": 2
}
