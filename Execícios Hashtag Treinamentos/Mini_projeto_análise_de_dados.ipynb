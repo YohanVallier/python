{
 "cells": [
  {
   "cell_type": "markdown",
   "metadata": {},
   "source": [
    "# Exercício - Mini Projeto de Análise de Dados\n",
    "\n",
    "Vamos fazer um exercício completo de pandas para um miniprojeto de análise de dados.\n",
    "\n",
    "Esse exercício vai obrigar a gente a usar boa parte dos conhecimento de pandas e até de outros módulos que já aprendemos ao longo do curso.\n",
    "\n",
    "### O que temos?\n",
    "\n",
    "Temos os dados de 2019 de uma empresa de prestação de serviços. \n",
    "\n",
    "- CadastroFuncionarios\n",
    "- CadastroClientes\n",
    "- BaseServiçosPrestados\n",
    "\n",
    "Obs1: Para ler arquivos csv, temos o read_csv<br>\n",
    "Obs2: Para ler arquivos xlsx (arquivos em excel normais, que não são padrão csv), temos o read_excel\n",
    "\n",
    "### O que queremos saber/fazer?\n",
    "\n",
    "1. Valor Total da Folha Salarial -> Qual foi o gasto total com salários de funcionários pela empresa? <br>\n",
    "    Sugestão: calcule o salário total de cada funcionário, salário + benefícios + impostos, depois some todos os salários\n",
    "    \n",
    "    \n",
    "2. Qual foi o faturamento da empresa?<br>\n",
    "    Sugestão: calcule o faturamento total de cada serviço e depois some o faturamento de todos\n",
    "    \n",
    "    \n",
    "3. Qual o % de funcionários que já fechou algum contrato?<br>\n",
    "    Sugestão: na base de serviços temos o funcionário que fechou cada serviço. Mas nem todos os funcionários que a empresa tem já fecharam algum serviço.<br>\n",
    "    . Na base de funcionários temos uma lista com todos os funcionários<br>\n",
    "    . Queremos calcular Qtde_Funcionarios_Fecharam_Serviço / Qtde_Funcionários_Totais<br>\n",
    "    . Para calcular a qtde de funcionários que fecharam algum serviço, use a base de serviços e conte quantos funcionários tem ali. Mas lembre-se, cada funcionário só pode ser contado uma única vez.<br><br>\n",
    "    Dica: se você aplicar o método .unique() em uma variável que é apenas 1 coluna de um dataframe, ele vai excluir todos os valores duplicados daquela coluna.<br>\n",
    "    Ex: unicos_colunaA = dataframe['colunaA'].unique() te dá como resposta uma lista com todos os itens da colunaA aparecendo uma única vez. Todos os valores repetidos da colunaA são excluidos da variável unicos_colunaA \n",
    "    \n",
    "    \n",
    "4. Calcule o total de contratos que cada área da empresa já fechou\n",
    "\n",
    "\n",
    "5. Calcule o total de funcionários por área\n",
    "\n",
    "\n",
    "6. Qual o ticket médio mensal (faturamento médio mensal) dos contratos?<br>\n",
    "    Dica: .mean() calcula a média -> exemplo: media_colunaA = dataframe['colunaA'].mean()\n",
    "\n",
    "Obs: Lembrando as opções mais usuais de encoding:<br>\n",
    "encoding='latin1', encoding='ISO-8859-1', encoding='utf-8' ou então encoding='cp1252'\n",
    "\n",
    "Observação Importante: Se o seu código der um erro na hora de importar os arquivos:<br>\n",
    "- CadastroClientes.csv\n",
    "- CadastroFuncionarios.csv\n",
    "\n",
    "Use separador \";\" (ponto e vírgula) para resolver e inclua o parâmetro decimal ',' para o pandas identificar os números corretamente"
   ]
  },
  {
   "cell_type": "markdown",
   "metadata": {},
   "source": [
    "### Importação de Módulos e Arquivos"
   ]
  },
  {
   "cell_type": "code",
   "execution_count": 2,
   "metadata": {},
   "outputs": [],
   "source": [
    "import pandas as pd\n",
    "\n",
    "funcionarios_df = pd.read_csv('CadastroFuncionarios.csv', sep=';', decimal=',')\n",
    "clientes_df = pd.read_csv('CadastroClientes.csv', sep=';', decimal=',')\n",
    "servicos_df = pd.read_excel('BaseServiçosPrestados.xlsx')\n",
    "\n",
    "#retirar colunas Estado Civil e Cargo da tabela de funcionarios\n",
    "funcionarios_df = funcionarios_df.drop(['Estado Civil', 'Cargo'], axis=1)"
   ]
  },
  {
   "cell_type": "markdown",
   "metadata": {},
   "source": [
    "### 1 - Folha Salarial"
   ]
  },
  {
   "cell_type": "code",
   "execution_count": 5,
   "metadata": {},
   "outputs": [
    {
     "name": "stdout",
     "output_type": "stream",
     "text": [
      "Total da Folha Salarial Mensal é de R$2,717,493.22\n"
     ]
    }
   ],
   "source": [
    "funcionarios_df['Salario Total'] = funcionarios_df['Salario Base'] + funcionarios_df['Impostos'] + funcionarios_df['Beneficios'] + funcionarios_df['VT'] + funcionarios_df['VR']\n",
    "print('Total da Folha Salarial Mensal é de R${:,}'.format(funcionarios_df['Salario Total'].sum()))"
   ]
  },
  {
   "cell_type": "markdown",
   "metadata": {},
   "source": [
    "### 2 - Faturamento da Empresa"
   ]
  },
  {
   "cell_type": "code",
   "execution_count": 6,
   "metadata": {},
   "outputs": [
    {
     "name": "stdout",
     "output_type": "stream",
     "text": [
      "O faturamento total da empresa fois de R$5,519,160\n"
     ]
    }
   ],
   "source": [
    "faturamento = servicos_df[['ID Cliente', 'Tempo Total de Contrato (Meses)']].merge(clientes_df[['ID Cliente', 'Valor Contrato Mensal']], on='ID Cliente')\n",
    "\n",
    "faturamento['Faturamento total'] = faturamento['Tempo Total de Contrato (Meses)'] * faturamento['Valor Contrato Mensal']\n",
    "\n",
    "print('O faturamento total da empresa fois de R${:,}'.format(sum(faturamento['Faturamento total'])))"
   ]
  },
  {
   "cell_type": "markdown",
   "metadata": {},
   "source": [
    "### 3 - % Funcionários Fecharam Contrato"
   ]
  },
  {
   "cell_type": "code",
   "execution_count": 4,
   "metadata": {},
   "outputs": [
    {
     "name": "stdout",
     "output_type": "stream",
     "text": [
      "A porcentagem de funcionários que fecharam o contrato é de 86.84%\n"
     ]
    }
   ],
   "source": [
    "porcen = servicos_df['ID Funcionário'].unique().size / funcionarios_df['ID Funcionário'].count()\n",
    "\n",
    "print(f'A porcentagem de funcionários que fecharam o contrato é de {porcen:.2%}')"
   ]
  },
  {
   "cell_type": "markdown",
   "metadata": {},
   "source": [
    "### 4 - Qtde Contratos por Área"
   ]
  },
  {
   "cell_type": "code",
   "execution_count": 3,
   "metadata": {},
   "outputs": [
    {
     "name": "stdout",
     "output_type": "stream",
     "text": [
      "Area\n",
      "Administrativo    63\n",
      "Operações         48\n",
      "Comercial         44\n",
      "Financeiro        42\n",
      "Logística         40\n",
      "Name: count, dtype: int64\n"
     ]
    },
    {
     "data": {
      "text/html": [
       "<div>\n",
       "<style scoped>\n",
       "    .dataframe tbody tr th:only-of-type {\n",
       "        vertical-align: middle;\n",
       "    }\n",
       "\n",
       "    .dataframe tbody tr th {\n",
       "        vertical-align: top;\n",
       "    }\n",
       "\n",
       "    .dataframe thead th {\n",
       "        text-align: right;\n",
       "    }\n",
       "</style>\n",
       "<table border=\"1\" class=\"dataframe\">\n",
       "  <thead>\n",
       "    <tr style=\"text-align: right;\">\n",
       "      <th></th>\n",
       "      <th>ID Funcionário</th>\n",
       "      <th>Tempo Total de Contrato (Meses)</th>\n",
       "      <th>Area</th>\n",
       "    </tr>\n",
       "  </thead>\n",
       "  <tbody>\n",
       "    <tr>\n",
       "      <th>0</th>\n",
       "      <td>67</td>\n",
       "      <td>14</td>\n",
       "      <td>Financeiro</td>\n",
       "    </tr>\n",
       "    <tr>\n",
       "      <th>1</th>\n",
       "      <td>17</td>\n",
       "      <td>12</td>\n",
       "      <td>Logística</td>\n",
       "    </tr>\n",
       "    <tr>\n",
       "      <th>2</th>\n",
       "      <td>116</td>\n",
       "      <td>14</td>\n",
       "      <td>Logística</td>\n",
       "    </tr>\n",
       "    <tr>\n",
       "      <th>3</th>\n",
       "      <td>37</td>\n",
       "      <td>8</td>\n",
       "      <td>Financeiro</td>\n",
       "    </tr>\n",
       "    <tr>\n",
       "      <th>4</th>\n",
       "      <td>130</td>\n",
       "      <td>8</td>\n",
       "      <td>Comercial</td>\n",
       "    </tr>\n",
       "    <tr>\n",
       "      <th>...</th>\n",
       "      <td>...</td>\n",
       "      <td>...</td>\n",
       "      <td>...</td>\n",
       "    </tr>\n",
       "    <tr>\n",
       "      <th>232</th>\n",
       "      <td>111</td>\n",
       "      <td>4</td>\n",
       "      <td>Operações</td>\n",
       "    </tr>\n",
       "    <tr>\n",
       "      <th>233</th>\n",
       "      <td>124</td>\n",
       "      <td>8</td>\n",
       "      <td>Comercial</td>\n",
       "    </tr>\n",
       "    <tr>\n",
       "      <th>234</th>\n",
       "      <td>72</td>\n",
       "      <td>6</td>\n",
       "      <td>Logística</td>\n",
       "    </tr>\n",
       "    <tr>\n",
       "      <th>235</th>\n",
       "      <td>90</td>\n",
       "      <td>14</td>\n",
       "      <td>Administrativo</td>\n",
       "    </tr>\n",
       "    <tr>\n",
       "      <th>236</th>\n",
       "      <td>22</td>\n",
       "      <td>12</td>\n",
       "      <td>Comercial</td>\n",
       "    </tr>\n",
       "  </tbody>\n",
       "</table>\n",
       "<p>237 rows × 3 columns</p>\n",
       "</div>"
      ],
      "text/plain": [
       "     ID Funcionário  Tempo Total de Contrato (Meses)            Area\n",
       "0                67                               14      Financeiro\n",
       "1                17                               12       Logística\n",
       "2               116                               14       Logística\n",
       "3                37                                8      Financeiro\n",
       "4               130                                8       Comercial\n",
       "..              ...                              ...             ...\n",
       "232             111                                4       Operações\n",
       "233             124                                8       Comercial\n",
       "234              72                                6       Logística\n",
       "235              90                               14  Administrativo\n",
       "236              22                               12       Comercial\n",
       "\n",
       "[237 rows x 3 columns]"
      ]
     },
     "execution_count": 3,
     "metadata": {},
     "output_type": "execute_result"
    }
   ],
   "source": [
    "contrato_area = servicos_df[['ID Funcionário', 'Tempo Total de Contrato (Meses)']].merge(funcionarios_df[['ID Funcionário', 'Area']], on='ID Funcionário')\n",
    "\n",
    "qtde_funcio_total = contrato_area['Area'].value_counts()\n",
    "print(qtde_funcio_total)"
   ]
  },
  {
   "cell_type": "markdown",
   "metadata": {},
   "source": [
    "### 5 - Funcionários por Área"
   ]
  },
  {
   "cell_type": "code",
   "execution_count": 4,
   "metadata": {},
   "outputs": [
    {
     "data": {
      "text/plain": [
       "Area\n",
       "Administrativo    26\n",
       "Comercial         26\n",
       "Operações         23\n",
       "Logística         21\n",
       "Financeiro        18\n",
       "Name: count, dtype: int64"
      ]
     },
     "execution_count": 4,
     "metadata": {},
     "output_type": "execute_result"
    }
   ],
   "source": [
    "funcionarios_df['Area'].value_counts()"
   ]
  },
  {
   "cell_type": "markdown",
   "metadata": {},
   "source": [
    "### 6 - Ticket Médio Mensal"
   ]
  },
  {
   "cell_type": "code",
   "execution_count": 9,
   "metadata": {},
   "outputs": [
    {
     "name": "stdout",
     "output_type": "stream",
     "text": [
      "Ticket Médio Mensal é de R$2,502.56\n"
     ]
    }
   ],
   "source": [
    "ticket_mensal = clientes_df['Valor Contrato Mensal'].mean()\n",
    "print(\"Ticket Médio Mensal é de R${:,.2f}\".format(ticket_mensal))"
   ]
  }
 ],
 "metadata": {
  "kernelspec": {
   "display_name": "Python 3",
   "language": "python",
   "name": "python3"
  },
  "language_info": {
   "codemirror_mode": {
    "name": "ipython",
    "version": 3
   },
   "file_extension": ".py",
   "mimetype": "text/x-python",
   "name": "python",
   "nbconvert_exporter": "python",
   "pygments_lexer": "ipython3",
   "version": "3.12.3"
  }
 },
 "nbformat": 4,
 "nbformat_minor": 4
}
