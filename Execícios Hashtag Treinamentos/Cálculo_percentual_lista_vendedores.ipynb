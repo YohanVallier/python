{
 "cells": [
  {
   "cell_type": "markdown",
   "metadata": {},
   "source": [
    "Criando função para verificar os que bateram a meta e sua porcentagem"
   ]
  },
  {
   "cell_type": "code",
   "execution_count": 20,
   "metadata": {},
   "outputs": [],
   "source": [
    "def meta_per_total(vendas):\n",
    "    c = c1 = 0\n",
    "    lista_vendedores = []\n",
    "    for i in vendas:\n",
    "        c += 1\n",
    "        per_total = c1 / c\n",
    "        if vendas[i] >= meta:\n",
    "            lista_vendedores.append(f'{i} bateu a meta')\n",
    "            c1 += 1\n",
    "    lista_vendedores.append(f'O percentual total dos que baterama meta é igual {per_total:.1%}')\n",
    "    return lista_vendedores"
   ]
  },
  {
   "cell_type": "markdown",
   "metadata": {},
   "source": [
    "Vendedores e meta"
   ]
  },
  {
   "cell_type": "code",
   "execution_count": 21,
   "metadata": {},
   "outputs": [],
   "source": [
    "meta = 10000\n",
    "vendas = {\n",
    "    'João': 15000,\n",
    "    'Julia': 27000,\n",
    "    'Marcus': 9900,\n",
    "    'Maria': 3750,\n",
    "    'Ana': 10300,\n",
    "    'Alon': 7870,\n",
    "}"
   ]
  },
  {
   "cell_type": "markdown",
   "metadata": {},
   "source": [
    "Rodando a função"
   ]
  },
  {
   "cell_type": "code",
   "execution_count": 22,
   "metadata": {},
   "outputs": [
    {
     "name": "stdout",
     "output_type": "stream",
     "text": [
      "['João bateu a meta', 'Julia bateu a meta', 'Ana bateu a meta', 'O percentual total dos que baterama meta é igual 50.0%']\n"
     ]
    }
   ],
   "source": [
    "print(meta_per_total(vendas))"
   ]
  }
 ],
 "metadata": {
  "kernelspec": {
   "display_name": "Python 3",
   "language": "python",
   "name": "python3"
  },
  "language_info": {
   "codemirror_mode": {
    "name": "ipython",
    "version": 3
   },
   "file_extension": ".py",
   "mimetype": "text/x-python",
   "name": "python",
   "nbconvert_exporter": "python",
   "pygments_lexer": "ipython3",
   "version": "3.12.1"
  }
 },
 "nbformat": 4,
 "nbformat_minor": 2
}
