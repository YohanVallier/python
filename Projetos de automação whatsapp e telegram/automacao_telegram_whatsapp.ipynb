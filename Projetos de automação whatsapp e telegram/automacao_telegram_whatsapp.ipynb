{
 "cells": [
  {
   "cell_type": "code",
   "execution_count": null,
   "metadata": {},
   "outputs": [],
   "source": [
    "!pip install selenium\n",
    "!pip install schedule"
   ]
  },
  {
   "cell_type": "code",
   "execution_count": null,
   "metadata": {},
   "outputs": [],
   "source": [
    "from time import sleep\n",
    "from selenium import webdriver\n",
    "from selenium.webdriver.common.by import By\n",
    "from selenium.webdriver.common.keys import Keys\n",
    "from selenium.webdriver import ActionChains\n",
    "from selenium.webdriver.support.ui import WebDriverWait\n",
    "from selenium.webdriver.support import expected_conditions as EC\n",
    "import schedule"
   ]
  },
  {
   "cell_type": "code",
   "execution_count": null,
   "metadata": {},
   "outputs": [],
   "source": [
    "telegram = webdriver.Chrome()\n",
    "telegram.get('https://web.telegram.org/k/#@ofertinhasnet')\n",
    "whatsapp = webdriver.Chrome()\n",
    "whatsapp.get('https://web.whatsapp.com/')\n",
    "sleep(60)"
   ]
  },
  {
   "cell_type": "code",
   "execution_count": null,
   "metadata": {},
   "outputs": [],
   "source": [
    "def automacao_tarefa():\n",
    "    lista_grupos = ['eu']\n",
    "    while True:\n",
    "        for grupo in lista_grupos:\n",
    "            mesangem_copiar = telegram.find_element(By.TAG_NAME, 'div')\n",
    "            ActionChains(telegram).context_click(mesangem_copiar).perform()\n",
    "            sleep(10)\n",
    "            copiar = telegram.find_element(By.XPATH, '//*[@id=\"bubble-contextmenu\"]/div[2]/div[2]').click()\n",
    "            sleep(2)\n",
    "            buscador = whatsapp.find_element(By.XPATH, '//*[@id=\"side\"]/div[1]/div/div[2]/div[2]/div/div[1]/p').click()\n",
    "            sleep(2)\n",
    "            buscador = whatsapp.find_element(By.XPATH, '//*[@id=\"side\"]/div[1]/div/div[2]/div[2]/div/div[1]/p').send_keys(grupo)\n",
    "            sleep(2)\n",
    "            buscador = whatsapp.find_element(By.XPATH, '//*[@id=\"side\"]/div[1]/div/div[2]/div[2]/div/div[1]/p').send_keys(Keys.ENTER)\n",
    "            sleep(2)\n",
    "            envio_mensagem = whatsapp.find_element(By.XPATH, '//*[@id=\"main\"]/footer/div[1]/div/span[2]/div/div[2]/div[1]/div/div[1]/p').click()\n",
    "            sleep(2)\n",
    "            envio_mensagem = whatsapp.find_element(By.XPATH, '//*[@id=\"main\"]/footer/div[1]/div/span[2]/div/div[2]/div[1]/div/div[1]/p').send_keys(Keys.CONTROL, 'v')\n",
    "            sleep(10)\n",
    "            envio_mensagem = whatsapp.find_element(By.XPATH, '//*[@id=\"main\"]/footer/div[1]/div/span[2]/div/div[2]/div[1]/div/div[1]/p').send_keys(Keys.ENTER)\n",
    "        sleep(1800) "
   ]
  },
  {
   "cell_type": "code",
   "execution_count": null,
   "metadata": {},
   "outputs": [],
   "source": [
    "schedule.every(20).minutes.until('20:38').do(automacao_tarefa)\n",
    "while True:\n",
    "    schedule.run_pending()\n",
    "    sleep(1)"
   ]
  }
 ],
 "metadata": {
  "kernelspec": {
   "display_name": "Python 3",
   "language": "python",
   "name": "python3"
  },
  "language_info": {
   "codemirror_mode": {
    "name": "ipython",
    "version": 3
   },
   "file_extension": ".py",
   "mimetype": "text/x-python",
   "name": "python",
   "nbconvert_exporter": "python",
   "pygments_lexer": "ipython3",
   "version": "3.10.12"
  }
 },
 "nbformat": 4,
 "nbformat_minor": 2
}
